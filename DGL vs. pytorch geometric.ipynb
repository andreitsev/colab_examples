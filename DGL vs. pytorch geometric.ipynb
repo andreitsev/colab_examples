{
 "cells": [
  {
   "cell_type": "code",
   "execution_count": 1,
   "metadata": {
    "id": "K0IWuMv1lOar"
   },
   "outputs": [],
   "source": [
    "import os\n",
    "import sys\n",
    "import time\n",
    "import itertools\n",
    "from tqdm.notebook import tqdm\n",
    "import pickle\n",
    "import json\n",
    "import joblib\n",
    "import collections\n",
    "\n",
    "import numpy as np\n",
    "import pandas as pd\n",
    "import matplotlib\n",
    "import matplotlib.pyplot as plt\n",
    "import seaborn as sns\n",
    "%matplotlib inline"
   ]
  },
  {
   "cell_type": "code",
   "execution_count": 2,
   "metadata": {
    "id": "sGOsQ6M1lXBi"
   },
   "outputs": [],
   "source": [
    "matplotlib.rcParams['figure.figsize'] = (8, 8)\n",
    "sns.set_style('whitegrid')"
   ]
  },
  {
   "cell_type": "code",
   "execution_count": 3,
   "metadata": {
    "scrolled": true
   },
   "outputs": [],
   "source": [
    "!pip install -q torch==1.10.0\n",
    "!pip install -q torch-scatter torch-sparse torch-cluster torch-spline-conv torch-geometric -f https://data.pyg.org/whl/torch-1.10.0+cu102.html    "
   ]
  },
  {
   "cell_type": "markdown",
   "metadata": {
    "id": "4nS7_ON8mJJx"
   },
   "source": [
    "---"
   ]
  },
  {
   "cell_type": "markdown",
   "metadata": {},
   "source": [
    "### PyTorch Geometric"
   ]
  },
  {
   "cell_type": "code",
   "execution_count": 4,
   "metadata": {},
   "outputs": [],
   "source": [
    "import time\n",
    "import numpy as np\n",
    "import torch\n",
    "import torch.nn as nn\n",
    "import torch_geometric\n",
    "from torch_geometric.nn import GCNConv\n",
    "from torch_geometric.datasets import PPI\n",
    "from torch_geometric.loader import DataLoader"
   ]
  },
  {
   "cell_type": "code",
   "execution_count": 5,
   "metadata": {},
   "outputs": [],
   "source": [
    "class GCNConvNet(nn.Module):\n",
    "    def __init__(self, in_channels=3, out_channels=6):\n",
    "        super(GCNConvNet, self).__init__()\n",
    "        self.gcn_0 = GCNConv(in_channels, 64)\n",
    "        self.gcn_h1 = GCNConv(64, 64)\n",
    "        self.gcn_h2 = GCNConv(64, 64)\n",
    "        self.gcn_h3 = GCNConv(64, 64)\n",
    "        self.gcn_h4 = GCNConv(64, 64)\n",
    "        self.gcn_h5 = GCNConv(64, 64)\n",
    "        self.gcn_h6 = GCNConv(64, 64)\n",
    "        self.gcn_out = GCNConv(64, out_channels)\n",
    "        \n",
    "    def forward(self, batch):\n",
    "        x, edge_index, batch_graph = batch.x, batch.edge_index, batch.batch\n",
    "        x = torch.relu(self.gcn_0(x, edge_index))\n",
    "        x = torch.relu(self.gcn_h1(x, edge_index))\n",
    "        x = torch.relu(self.gcn_h2(x, edge_index))\n",
    "        x = torch.relu(self.gcn_h3(x, edge_index))\n",
    "        x = torch.relu(self.gcn_h4(x, edge_index))\n",
    "        x = torch.relu(self.gcn_h5(x, edge_index))\n",
    "        x = torch.relu(self.gcn_h6(x, edge_index))\n",
    "        x = torch.dropout(x, p=0.25, train=self.training)\n",
    "        x = self.gcn_out(x, edge_index)\n",
    "        x = torch.sigmoid(x)\n",
    "        return x"
   ]
  },
  {
   "cell_type": "code",
   "execution_count": 18,
   "metadata": {},
   "outputs": [
    {
     "name": "stderr",
     "output_type": "stream",
     "text": [
      "Downloading https://data.dgl.ai/dataset/ppi.zip\n",
      "Extracting tmp/ppi.zip\n",
      "Processing...\n",
      "Done!\n"
     ]
    }
   ],
   "source": [
    "dataset = PPI(root=\"./tmp\")\n",
    "dataset = dataset.shuffle()"
   ]
  },
  {
   "cell_type": "code",
   "execution_count": 19,
   "metadata": {},
   "outputs": [],
   "source": [
    "test_dataset = dataset[:2]\n",
    "train_dataset = dataset[2:]\n",
    "test_loader = DataLoader(test_dataset, batch_size=1)\n",
    "train_loader = DataLoader(train_dataset, batch_size=8, shuffle=True)"
   ]
  },
  {
   "cell_type": "code",
   "execution_count": 23,
   "metadata": {},
   "outputs": [],
   "source": [
    "for batch in train_loader: break"
   ]
  },
  {
   "cell_type": "code",
   "execution_count": 29,
   "metadata": {},
   "outputs": [
    {
     "name": "stdout",
     "output_type": "stream",
     "text": [
      "DataBatch(x=[19310, 50], edge_index=[2, 550228], y=[19310, 121], batch=[19310], ptr=[9])\n",
      "in_channels: 50\n",
      "out_channels: 121\n"
     ]
    }
   ],
   "source": [
    "print(batch)\n",
    "in_channels = batch.x.shape[1]\n",
    "out_channels = dataset.num_classes\n",
    "print(f\"in_channels: {in_channels}\")\n",
    "print(f\"out_channels: {out_channels}\")"
   ]
  },
  {
   "cell_type": "code",
   "execution_count": 104,
   "metadata": {},
   "outputs": [
    {
     "name": "stdout",
     "output_type": "stream",
     "text": [
      "torch.Size([5299, 50])\n",
      "torch.Size([5299, 2])\n"
     ]
    }
   ],
   "source": [
    "g_conv = GCNConv(in_channels=50, out_channels=2)\n",
    "print(batch.x.shape)\n",
    "print(g_conv(x=batch.x.to('cpu'), edge_index=batch.edge_index.to('cpu')).shape)"
   ]
  },
  {
   "cell_type": "code",
   "execution_count": 48,
   "metadata": {},
   "outputs": [],
   "source": [
    "num_epochs = 10000\n",
    "lr = 1e-3\n",
    "model = GCNConvNet(\n",
    "    in_channels=in_channels,\n",
    "    out_channels=out_channels\n",
    ")\n",
    "loss_fn = torch.nn.BCELoss()\n",
    "optimizer = torch.optim.Adam(model.parameters(), lr=lr)\n",
    "my_device = \"cuda\" if torch.cuda.is_available() else \"cpu\"\n",
    "model = model.to(my_device)"
   ]
  },
  {
   "cell_type": "code",
   "execution_count": 49,
   "metadata": {
    "scrolled": true
   },
   "outputs": [
    {
     "data": {
      "application/vnd.jupyter.widget-view+json": {
       "model_id": "dad5bad0de3d489291789f58805398fb",
       "version_major": 2,
       "version_minor": 0
      },
      "text/plain": [
       "  0%|          | 0/10000 [00:00<?, ?it/s]"
      ]
     },
     "metadata": {},
     "output_type": "display_data"
    },
    {
     "name": "stdout",
     "output_type": "stream",
     "text": [
      "loss at epoch 0 = 0.6925579309463501\n",
      "loss at epoch 100 = 0.5686668157577515\n",
      "loss at epoch 200 = 0.5485591888427734\n",
      "loss at epoch 300 = 0.539613664150238\n",
      "loss at epoch 400 = 0.5237611532211304\n",
      "loss at epoch 500 = 0.5162431597709656\n",
      "loss at epoch 600 = 0.5110690593719482\n",
      "loss at epoch 700 = 0.5058647990226746\n",
      "loss at epoch 800 = 0.500960648059845\n",
      "loss at epoch 900 = 0.5056134462356567\n",
      "loss at epoch 1000 = 0.5054253935813904\n",
      "loss at epoch 1100 = 0.4940776824951172\n",
      "loss at epoch 1200 = 0.4920627772808075\n",
      "loss at epoch 1300 = 0.4901476800441742\n",
      "loss at epoch 1400 = 0.4874822497367859\n",
      "loss at epoch 1500 = 0.4885723292827606\n",
      "loss at epoch 1600 = 0.49146318435668945\n",
      "loss at epoch 1700 = 0.48337334394454956\n",
      "loss at epoch 1800 = 0.4878213405609131\n",
      "loss at epoch 1900 = 0.48189136385917664\n",
      "loss at epoch 2000 = 0.47994086146354675\n",
      "loss at epoch 2100 = 0.48531636595726013\n",
      "loss at epoch 2200 = 0.4841183125972748\n",
      "loss at epoch 2300 = 0.48853135108947754\n",
      "loss at epoch 2400 = 0.4773240089416504\n",
      "loss at epoch 2500 = 0.48270440101623535\n",
      "loss at epoch 2600 = 0.4809490144252777\n",
      "loss at epoch 2700 = 0.47579225897789\n",
      "loss at epoch 2800 = 0.47871360182762146\n",
      "loss at epoch 2900 = 0.48906025290489197\n",
      "loss at epoch 3000 = 0.47491034865379333\n",
      "loss at epoch 3100 = 0.47646427154541016\n",
      "loss at epoch 3200 = 0.4724787175655365\n",
      "loss at epoch 3300 = 0.47279244661331177\n",
      "loss at epoch 3400 = 0.47992247343063354\n",
      "loss at epoch 3500 = 0.4732385277748108\n",
      "loss at epoch 3600 = 0.47822707891464233\n",
      "loss at epoch 3700 = 0.47450944781303406\n",
      "loss at epoch 3800 = 0.4749012887477875\n",
      "loss at epoch 3900 = 0.4697501063346863\n",
      "loss at epoch 4000 = 0.4687196612358093\n",
      "loss at epoch 4100 = 0.4689485430717468\n",
      "loss at epoch 4200 = 0.4686778485774994\n",
      "loss at epoch 4300 = 0.4674641788005829\n",
      "loss at epoch 4400 = 0.4678043723106384\n",
      "loss at epoch 4500 = 0.466557115316391\n",
      "loss at epoch 4600 = 0.4655793607234955\n",
      "loss at epoch 4700 = 0.46560510993003845\n",
      "loss at epoch 4800 = 0.4652996063232422\n",
      "loss at epoch 4900 = 0.46629786491394043\n",
      "loss at epoch 5000 = 0.4660659432411194\n",
      "loss at epoch 5100 = 0.46966397762298584\n",
      "loss at epoch 5200 = 0.4629964232444763\n"
     ]
    },
    {
     "ename": "KeyboardInterrupt",
     "evalue": "",
     "output_type": "error",
     "traceback": [
      "\u001b[0;31m---------------------------------------------------------------------------\u001b[0m",
      "\u001b[0;31mKeyboardInterrupt\u001b[0m                         Traceback (most recent call last)",
      "\u001b[0;32m<ipython-input-49-c27799188390>\u001b[0m in \u001b[0;36m<module>\u001b[0;34m()\u001b[0m\n\u001b[1;32m      8\u001b[0m     \u001b[0;32mfor\u001b[0m \u001b[0mbatch\u001b[0m \u001b[0;32min\u001b[0m \u001b[0mtrain_loader\u001b[0m\u001b[0;34m:\u001b[0m\u001b[0;34m\u001b[0m\u001b[0;34m\u001b[0m\u001b[0m\n\u001b[1;32m      9\u001b[0m         \u001b[0moptimizer\u001b[0m\u001b[0;34m.\u001b[0m\u001b[0mzero_grad\u001b[0m\u001b[0;34m(\u001b[0m\u001b[0;34m)\u001b[0m\u001b[0;34m\u001b[0m\u001b[0;34m\u001b[0m\u001b[0m\n\u001b[0;32m---> 10\u001b[0;31m         \u001b[0mpred\u001b[0m \u001b[0;34m=\u001b[0m \u001b[0mmodel\u001b[0m\u001b[0;34m(\u001b[0m\u001b[0mbatch\u001b[0m\u001b[0;34m.\u001b[0m\u001b[0mto\u001b[0m\u001b[0;34m(\u001b[0m\u001b[0mmy_device\u001b[0m\u001b[0;34m)\u001b[0m\u001b[0;34m)\u001b[0m\u001b[0;34m\u001b[0m\u001b[0;34m\u001b[0m\u001b[0m\n\u001b[0m\u001b[1;32m     11\u001b[0m         \u001b[0mloss\u001b[0m \u001b[0;34m=\u001b[0m \u001b[0mloss_fn\u001b[0m\u001b[0;34m(\u001b[0m\u001b[0mpred\u001b[0m\u001b[0;34m,\u001b[0m \u001b[0mbatch\u001b[0m\u001b[0;34m.\u001b[0m\u001b[0my\u001b[0m\u001b[0;34m.\u001b[0m\u001b[0mto\u001b[0m\u001b[0;34m(\u001b[0m\u001b[0mmy_device\u001b[0m\u001b[0;34m)\u001b[0m\u001b[0;34m)\u001b[0m\u001b[0;34m\u001b[0m\u001b[0;34m\u001b[0m\u001b[0m\n\u001b[1;32m     12\u001b[0m         \u001b[0mloss\u001b[0m\u001b[0;34m.\u001b[0m\u001b[0mbackward\u001b[0m\u001b[0;34m(\u001b[0m\u001b[0;34m)\u001b[0m\u001b[0;34m\u001b[0m\u001b[0;34m\u001b[0m\u001b[0m\n",
      "\u001b[0;32m/usr/local/lib/python3.7/dist-packages/torch/nn/modules/module.py\u001b[0m in \u001b[0;36m_call_impl\u001b[0;34m(self, *input, **kwargs)\u001b[0m\n\u001b[1;32m   1100\u001b[0m         if not (self._backward_hooks or self._forward_hooks or self._forward_pre_hooks or _global_backward_hooks\n\u001b[1;32m   1101\u001b[0m                 or _global_forward_hooks or _global_forward_pre_hooks):\n\u001b[0;32m-> 1102\u001b[0;31m             \u001b[0;32mreturn\u001b[0m \u001b[0mforward_call\u001b[0m\u001b[0;34m(\u001b[0m\u001b[0;34m*\u001b[0m\u001b[0minput\u001b[0m\u001b[0;34m,\u001b[0m \u001b[0;34m**\u001b[0m\u001b[0mkwargs\u001b[0m\u001b[0;34m)\u001b[0m\u001b[0;34m\u001b[0m\u001b[0;34m\u001b[0m\u001b[0m\n\u001b[0m\u001b[1;32m   1103\u001b[0m         \u001b[0;31m# Do not call functions when jit is used\u001b[0m\u001b[0;34m\u001b[0m\u001b[0;34m\u001b[0m\u001b[0;34m\u001b[0m\u001b[0m\n\u001b[1;32m   1104\u001b[0m         \u001b[0mfull_backward_hooks\u001b[0m\u001b[0;34m,\u001b[0m \u001b[0mnon_full_backward_hooks\u001b[0m \u001b[0;34m=\u001b[0m \u001b[0;34m[\u001b[0m\u001b[0;34m]\u001b[0m\u001b[0;34m,\u001b[0m \u001b[0;34m[\u001b[0m\u001b[0;34m]\u001b[0m\u001b[0;34m\u001b[0m\u001b[0;34m\u001b[0m\u001b[0m\n",
      "\u001b[0;32m<ipython-input-17-1c9495ace15b>\u001b[0m in \u001b[0;36mforward\u001b[0;34m(self, batch)\u001b[0m\n\u001b[1;32m     20\u001b[0m         \u001b[0mx\u001b[0m \u001b[0;34m=\u001b[0m \u001b[0mtorch\u001b[0m\u001b[0;34m.\u001b[0m\u001b[0mrelu\u001b[0m\u001b[0;34m(\u001b[0m\u001b[0mself\u001b[0m\u001b[0;34m.\u001b[0m\u001b[0mgcn_h6\u001b[0m\u001b[0;34m(\u001b[0m\u001b[0mx\u001b[0m\u001b[0;34m,\u001b[0m \u001b[0medge_index\u001b[0m\u001b[0;34m)\u001b[0m\u001b[0;34m)\u001b[0m\u001b[0;34m\u001b[0m\u001b[0;34m\u001b[0m\u001b[0m\n\u001b[1;32m     21\u001b[0m         \u001b[0mx\u001b[0m \u001b[0;34m=\u001b[0m \u001b[0mtorch\u001b[0m\u001b[0;34m.\u001b[0m\u001b[0mdropout\u001b[0m\u001b[0;34m(\u001b[0m\u001b[0mx\u001b[0m\u001b[0;34m,\u001b[0m \u001b[0mp\u001b[0m\u001b[0;34m=\u001b[0m\u001b[0;36m0.25\u001b[0m\u001b[0;34m,\u001b[0m \u001b[0mtrain\u001b[0m\u001b[0;34m=\u001b[0m\u001b[0mself\u001b[0m\u001b[0;34m.\u001b[0m\u001b[0mtraining\u001b[0m\u001b[0;34m)\u001b[0m\u001b[0;34m\u001b[0m\u001b[0;34m\u001b[0m\u001b[0m\n\u001b[0;32m---> 22\u001b[0;31m         \u001b[0mx\u001b[0m \u001b[0;34m=\u001b[0m \u001b[0mself\u001b[0m\u001b[0;34m.\u001b[0m\u001b[0mgcn_out\u001b[0m\u001b[0;34m(\u001b[0m\u001b[0mx\u001b[0m\u001b[0;34m,\u001b[0m \u001b[0medge_index\u001b[0m\u001b[0;34m)\u001b[0m\u001b[0;34m\u001b[0m\u001b[0;34m\u001b[0m\u001b[0m\n\u001b[0m\u001b[1;32m     23\u001b[0m         \u001b[0mx\u001b[0m \u001b[0;34m=\u001b[0m \u001b[0mtorch\u001b[0m\u001b[0;34m.\u001b[0m\u001b[0msigmoid\u001b[0m\u001b[0;34m(\u001b[0m\u001b[0mx\u001b[0m\u001b[0;34m)\u001b[0m\u001b[0;34m\u001b[0m\u001b[0;34m\u001b[0m\u001b[0m\n\u001b[1;32m     24\u001b[0m         \u001b[0;32mreturn\u001b[0m \u001b[0mx\u001b[0m\u001b[0;34m\u001b[0m\u001b[0;34m\u001b[0m\u001b[0m\n",
      "\u001b[0;32m/usr/local/lib/python3.7/dist-packages/torch/nn/modules/module.py\u001b[0m in \u001b[0;36m_call_impl\u001b[0;34m(self, *input, **kwargs)\u001b[0m\n\u001b[1;32m   1100\u001b[0m         if not (self._backward_hooks or self._forward_hooks or self._forward_pre_hooks or _global_backward_hooks\n\u001b[1;32m   1101\u001b[0m                 or _global_forward_hooks or _global_forward_pre_hooks):\n\u001b[0;32m-> 1102\u001b[0;31m             \u001b[0;32mreturn\u001b[0m \u001b[0mforward_call\u001b[0m\u001b[0;34m(\u001b[0m\u001b[0;34m*\u001b[0m\u001b[0minput\u001b[0m\u001b[0;34m,\u001b[0m \u001b[0;34m**\u001b[0m\u001b[0mkwargs\u001b[0m\u001b[0;34m)\u001b[0m\u001b[0;34m\u001b[0m\u001b[0;34m\u001b[0m\u001b[0m\n\u001b[0m\u001b[1;32m   1103\u001b[0m         \u001b[0;31m# Do not call functions when jit is used\u001b[0m\u001b[0;34m\u001b[0m\u001b[0;34m\u001b[0m\u001b[0;34m\u001b[0m\u001b[0m\n\u001b[1;32m   1104\u001b[0m         \u001b[0mfull_backward_hooks\u001b[0m\u001b[0;34m,\u001b[0m \u001b[0mnon_full_backward_hooks\u001b[0m \u001b[0;34m=\u001b[0m \u001b[0;34m[\u001b[0m\u001b[0;34m]\u001b[0m\u001b[0;34m,\u001b[0m \u001b[0;34m[\u001b[0m\u001b[0;34m]\u001b[0m\u001b[0;34m\u001b[0m\u001b[0;34m\u001b[0m\u001b[0m\n",
      "\u001b[0;32m/usr/local/lib/python3.7/dist-packages/torch_geometric/nn/conv/gcn_conv.py\u001b[0m in \u001b[0;36mforward\u001b[0;34m(self, x, edge_index, edge_weight)\u001b[0m\n\u001b[1;32m    193\u001b[0m         \u001b[0;31m# propagate_type: (x: Tensor, edge_weight: OptTensor)\u001b[0m\u001b[0;34m\u001b[0m\u001b[0;34m\u001b[0m\u001b[0;34m\u001b[0m\u001b[0m\n\u001b[1;32m    194\u001b[0m         out = self.propagate(edge_index, x=x, edge_weight=edge_weight,\n\u001b[0;32m--> 195\u001b[0;31m                              size=None)\n\u001b[0m\u001b[1;32m    196\u001b[0m \u001b[0;34m\u001b[0m\u001b[0m\n\u001b[1;32m    197\u001b[0m         \u001b[0;32mif\u001b[0m \u001b[0mself\u001b[0m\u001b[0;34m.\u001b[0m\u001b[0mbias\u001b[0m \u001b[0;32mis\u001b[0m \u001b[0;32mnot\u001b[0m \u001b[0;32mNone\u001b[0m\u001b[0;34m:\u001b[0m\u001b[0;34m\u001b[0m\u001b[0;34m\u001b[0m\u001b[0m\n",
      "\u001b[0;32m/usr/local/lib/python3.7/dist-packages/torch_geometric/nn/conv/message_passing.py\u001b[0m in \u001b[0;36mpropagate\u001b[0;34m(self, edge_index, size, **kwargs)\u001b[0m\n\u001b[1;32m    337\u001b[0m                     \u001b[0mout\u001b[0m \u001b[0;34m=\u001b[0m \u001b[0mout\u001b[0m \u001b[0;34m*\u001b[0m \u001b[0medge_mask\u001b[0m\u001b[0;34m.\u001b[0m\u001b[0mview\u001b[0m\u001b[0;34m(\u001b[0m\u001b[0;34m[\u001b[0m\u001b[0;34m-\u001b[0m\u001b[0;36m1\u001b[0m\u001b[0;34m]\u001b[0m \u001b[0;34m+\u001b[0m \u001b[0;34m[\u001b[0m\u001b[0;36m1\u001b[0m\u001b[0;34m]\u001b[0m \u001b[0;34m*\u001b[0m \u001b[0;34m(\u001b[0m\u001b[0mout\u001b[0m\u001b[0;34m.\u001b[0m\u001b[0mdim\u001b[0m\u001b[0;34m(\u001b[0m\u001b[0;34m)\u001b[0m \u001b[0;34m-\u001b[0m \u001b[0;36m1\u001b[0m\u001b[0;34m)\u001b[0m\u001b[0;34m)\u001b[0m\u001b[0;34m\u001b[0m\u001b[0;34m\u001b[0m\u001b[0m\n\u001b[1;32m    338\u001b[0m \u001b[0;34m\u001b[0m\u001b[0m\n\u001b[0;32m--> 339\u001b[0;31m                 \u001b[0maggr_kwargs\u001b[0m \u001b[0;34m=\u001b[0m \u001b[0mself\u001b[0m\u001b[0;34m.\u001b[0m\u001b[0minspector\u001b[0m\u001b[0;34m.\u001b[0m\u001b[0mdistribute\u001b[0m\u001b[0;34m(\u001b[0m\u001b[0;34m'aggregate'\u001b[0m\u001b[0;34m,\u001b[0m \u001b[0mcoll_dict\u001b[0m\u001b[0;34m)\u001b[0m\u001b[0;34m\u001b[0m\u001b[0;34m\u001b[0m\u001b[0m\n\u001b[0m\u001b[1;32m    340\u001b[0m                 \u001b[0;32mfor\u001b[0m \u001b[0mhook\u001b[0m \u001b[0;32min\u001b[0m \u001b[0mself\u001b[0m\u001b[0;34m.\u001b[0m\u001b[0m_aggregate_forward_pre_hooks\u001b[0m\u001b[0;34m.\u001b[0m\u001b[0mvalues\u001b[0m\u001b[0;34m(\u001b[0m\u001b[0;34m)\u001b[0m\u001b[0;34m:\u001b[0m\u001b[0;34m\u001b[0m\u001b[0;34m\u001b[0m\u001b[0m\n\u001b[1;32m    341\u001b[0m                     \u001b[0mres\u001b[0m \u001b[0;34m=\u001b[0m \u001b[0mhook\u001b[0m\u001b[0;34m(\u001b[0m\u001b[0mself\u001b[0m\u001b[0;34m,\u001b[0m \u001b[0;34m(\u001b[0m\u001b[0maggr_kwargs\u001b[0m\u001b[0;34m,\u001b[0m \u001b[0;34m)\u001b[0m\u001b[0;34m)\u001b[0m\u001b[0;34m\u001b[0m\u001b[0;34m\u001b[0m\u001b[0m\n",
      "\u001b[0;32m/usr/local/lib/python3.7/dist-packages/torch_geometric/nn/conv/utils/inspector.py\u001b[0m in \u001b[0;36mdistribute\u001b[0;34m(self, func_name, kwargs)\u001b[0m\n\u001b[1;32m     50\u001b[0m         \u001b[0;32mreturn\u001b[0m \u001b[0mout\u001b[0m\u001b[0;34m\u001b[0m\u001b[0;34m\u001b[0m\u001b[0m\n\u001b[1;32m     51\u001b[0m \u001b[0;34m\u001b[0m\u001b[0m\n\u001b[0;32m---> 52\u001b[0;31m     \u001b[0;32mdef\u001b[0m \u001b[0mdistribute\u001b[0m\u001b[0;34m(\u001b[0m\u001b[0mself\u001b[0m\u001b[0;34m,\u001b[0m \u001b[0mfunc_name\u001b[0m\u001b[0;34m,\u001b[0m \u001b[0mkwargs\u001b[0m\u001b[0;34m:\u001b[0m \u001b[0mDict\u001b[0m\u001b[0;34m[\u001b[0m\u001b[0mstr\u001b[0m\u001b[0;34m,\u001b[0m \u001b[0mAny\u001b[0m\u001b[0;34m]\u001b[0m\u001b[0;34m)\u001b[0m\u001b[0;34m:\u001b[0m\u001b[0;34m\u001b[0m\u001b[0;34m\u001b[0m\u001b[0m\n\u001b[0m\u001b[1;32m     53\u001b[0m         \u001b[0mout\u001b[0m \u001b[0;34m=\u001b[0m \u001b[0;34m{\u001b[0m\u001b[0;34m}\u001b[0m\u001b[0;34m\u001b[0m\u001b[0;34m\u001b[0m\u001b[0m\n\u001b[1;32m     54\u001b[0m         \u001b[0;32mfor\u001b[0m \u001b[0mkey\u001b[0m\u001b[0;34m,\u001b[0m \u001b[0mparam\u001b[0m \u001b[0;32min\u001b[0m \u001b[0mself\u001b[0m\u001b[0;34m.\u001b[0m\u001b[0mparams\u001b[0m\u001b[0;34m[\u001b[0m\u001b[0mfunc_name\u001b[0m\u001b[0;34m]\u001b[0m\u001b[0;34m.\u001b[0m\u001b[0mitems\u001b[0m\u001b[0;34m(\u001b[0m\u001b[0;34m)\u001b[0m\u001b[0;34m:\u001b[0m\u001b[0;34m\u001b[0m\u001b[0;34m\u001b[0m\u001b[0m\n",
      "\u001b[0;31mKeyboardInterrupt\u001b[0m: "
     ]
    }
   ],
   "source": [
    "losses = []\n",
    "time_elapsed = []\n",
    "epochs = []\n",
    "t0 = time.time()\n",
    "for epoch in tqdm(range(num_epochs)):\n",
    "    total_loss = 0.0\n",
    "    batch_count = 0\n",
    "    for batch in train_loader:\n",
    "        optimizer.zero_grad()\n",
    "        pred = model(batch.to(my_device))\n",
    "        loss = loss_fn(pred, batch.y.to(my_device))\n",
    "        loss.backward()\n",
    "        optimizer.step()\n",
    "        total_loss += loss.detach()\n",
    "        batch_count += 1\n",
    "    mean_loss = total_loss / batch_count\n",
    "    losses.append(mean_loss)\n",
    "    epochs.append(epoch)\n",
    "    time_elapsed.append(time.time()-t0)\n",
    "    if epoch % 100 == 0:\n",
    "        print(f\"loss at epoch {epoch} = {mean_loss}\")"
   ]
  },
  {
   "cell_type": "code",
   "execution_count": 55,
   "metadata": {},
   "outputs": [],
   "source": [
    "losses_cpu = [val.cpu().item() for val in losses]"
   ]
  },
  {
   "cell_type": "code",
   "execution_count": 57,
   "metadata": {},
   "outputs": [
    {
     "data": {
      "image/png": "[encoded data removed]",
      "text/plain": [
       "<Figure size 576x576 with 1 Axes>"
      ]
     },
     "metadata": {},
     "output_type": "display_data"
    }
   ],
   "source": [
    "plt.plot(epochs, losses_cpu);\n",
    "plt.xlabel('N epochs', fontsize=15)\n",
    "plt.ylabel('BCE loss', fontsize=15);"
   ]
  },
  {
   "cell_type": "code",
   "execution_count": 58,
   "metadata": {},
   "outputs": [
    {
     "data": {
      "text/plain": [
       "GCNConvNet(\n",
       "  (gcn_0): GCNConv(50, 64)\n",
       "  (gcn_h1): GCNConv(64, 64)\n",
       "  (gcn_h2): GCNConv(64, 64)\n",
       "  (gcn_h3): GCNConv(64, 64)\n",
       "  (gcn_h4): GCNConv(64, 64)\n",
       "  (gcn_h5): GCNConv(64, 64)\n",
       "  (gcn_h6): GCNConv(64, 64)\n",
       "  (gcn_out): GCNConv(64, 121)\n",
       ")"
      ]
     },
     "execution_count": 58,
     "metadata": {},
     "output_type": "execute_result"
    }
   ],
   "source": [
    "model.to('cpu')"
   ]
  },
  {
   "cell_type": "code",
   "execution_count": 59,
   "metadata": {},
   "outputs": [],
   "source": [
    "for test_batch in test_loader: break"
   ]
  },
  {
   "cell_type": "code",
   "execution_count": 78,
   "metadata": {},
   "outputs": [
    {
     "data": {
      "application/vnd.jupyter.widget-view+json": {
       "model_id": "e1c6214e551143e499915afef5afe181",
       "version_major": 2,
       "version_minor": 0
      },
      "text/plain": [
       "  0%|          | 0/2 [00:00<?, ?it/s]"
      ]
     },
     "metadata": {},
     "output_type": "display_data"
    }
   ],
   "source": [
    "y_test_all_true = []\n",
    "y_test_all_pred = []\n",
    "with torch.no_grad():\n",
    "    for test_batch in tqdm(test_loader):\n",
    "        res = model(test_batch)\n",
    "        y_test_all_pred.extend(list(res.ravel().numpy()))\n",
    "        y_test_all_true.extend(list(test_batch.y.ravel().numpy()))"
   ]
  },
  {
   "cell_type": "code",
   "execution_count": 73,
   "metadata": {},
   "outputs": [],
   "source": [
    "from sklearn import metrics"
   ]
  },
  {
   "cell_type": "code",
   "execution_count": 82,
   "metadata": {},
   "outputs": [
    {
     "data": {
      "text/plain": [
       "0.6834479422959645"
      ]
     },
     "execution_count": 82,
     "metadata": {},
     "output_type": "execute_result"
    }
   ],
   "source": [
    "metrics.accuracy_score(\n",
    "    y_true=y_test_all_true,\n",
    "    y_pred=(np.array(y_test_all_pred) > 0.5).astype(int)\n",
    ")"
   ]
  },
  {
   "cell_type": "code",
   "execution_count": 83,
   "metadata": {},
   "outputs": [
    {
     "data": {
      "text/plain": [
       "0.6725790828166789"
      ]
     },
     "execution_count": 83,
     "metadata": {},
     "output_type": "execute_result"
    }
   ],
   "source": [
    "metrics.roc_auc_score(\n",
    "    y_true=y_test_all_true,\n",
    "    y_score=np.array(y_test_all_pred)\n",
    ")"
   ]
  },
  {
   "cell_type": "code",
   "execution_count": 84,
   "metadata": {},
   "outputs": [],
   "source": [
    "# Проверим качество на сети с рандомной инициализацией весов\n",
    "model_random = GCNConvNet(\n",
    "    in_channels=in_channels,\n",
    "    out_channels=out_channels\n",
    ")"
   ]
  },
  {
   "cell_type": "code",
   "execution_count": 85,
   "metadata": {},
   "outputs": [
    {
     "data": {
      "application/vnd.jupyter.widget-view+json": {
       "model_id": "ae551f859a58498cb7deb835865ad44d",
       "version_major": 2,
       "version_minor": 0
      },
      "text/plain": [
       "  0%|          | 0/2 [00:00<?, ?it/s]"
      ]
     },
     "metadata": {},
     "output_type": "display_data"
    }
   ],
   "source": [
    "y_test_all_true = []\n",
    "y_test_all_pred = []\n",
    "with torch.no_grad():\n",
    "    for test_batch in tqdm(test_loader):\n",
    "        res = model_random(test_batch)\n",
    "        y_test_all_pred.extend(list(res.ravel().numpy()))\n",
    "        y_test_all_true.extend(list(test_batch.y.ravel().numpy()))"
   ]
  },
  {
   "cell_type": "code",
   "execution_count": 86,
   "metadata": {},
   "outputs": [
    {
     "data": {
      "text/plain": [
       "0.522209429478687"
      ]
     },
     "execution_count": 86,
     "metadata": {},
     "output_type": "execute_result"
    }
   ],
   "source": [
    "metrics.accuracy_score(\n",
    "    y_true=y_test_all_true,\n",
    "    y_pred=(np.array(y_test_all_pred) > 0.5).astype(int)\n",
    ")"
   ]
  },
  {
   "cell_type": "code",
   "execution_count": 87,
   "metadata": {},
   "outputs": [
    {
     "data": {
      "text/plain": [
       "0.5006005654516015"
      ]
     },
     "execution_count": 87,
     "metadata": {},
     "output_type": "execute_result"
    }
   ],
   "source": [
    "metrics.roc_auc_score(\n",
    "    y_true=y_test_all_true,\n",
    "    y_score=np.array(y_test_all_pred)\n",
    ")"
   ]
  },
  {
   "cell_type": "markdown",
   "metadata": {},
   "source": [
    "### DGL"
   ]
  },
  {
   "cell_type": "code",
   "execution_count": 6,
   "metadata": {},
   "outputs": [
    {
     "name": "stdout",
     "output_type": "stream",
     "text": [
      "Looking in indexes: https://pypi.org/simple, https://us-python.pkg.dev/colab-wheels/public/simple/\n",
      "Requirement already satisfied: dgl in /usr/local/lib/python3.7/dist-packages (0.6.1)\n",
      "Requirement already satisfied: networkx>=2.1 in /usr/local/lib/python3.7/dist-packages (from dgl) (2.6.3)\n",
      "Requirement already satisfied: scipy>=1.1.0 in /usr/local/lib/python3.7/dist-packages (from dgl) (1.4.1)\n",
      "Requirement already satisfied: requests>=2.19.0 in /usr/local/lib/python3.7/dist-packages (from dgl) (2.23.0)\n",
      "Requirement already satisfied: numpy>=1.14.0 in /usr/local/lib/python3.7/dist-packages (from dgl) (1.21.6)\n",
      "Requirement already satisfied: certifi>=2017.4.17 in /usr/local/lib/python3.7/dist-packages (from requests>=2.19.0->dgl) (2022.6.15)\n",
      "Requirement already satisfied: urllib3!=1.25.0,!=1.25.1,<1.26,>=1.21.1 in /usr/local/lib/python3.7/dist-packages (from requests>=2.19.0->dgl) (1.24.3)\n",
      "Requirement already satisfied: idna<3,>=2.5 in /usr/local/lib/python3.7/dist-packages (from requests>=2.19.0->dgl) (2.10)\n",
      "Requirement already satisfied: chardet<4,>=3.0.2 in /usr/local/lib/python3.7/dist-packages (from requests>=2.19.0->dgl) (3.0.4)\n"
     ]
    }
   ],
   "source": [
    "# !pip install dgl-cu102 -f https://data.dgl.ai/wheels/repo.html\n",
    "!pip install dgl"
   ]
  },
  {
   "cell_type": "code",
   "execution_count": 7,
   "metadata": {},
   "outputs": [
    {
     "name": "stderr",
     "output_type": "stream",
     "text": [
      "Using backend: pytorch\n"
     ]
    },
    {
     "name": "stdout",
     "output_type": "stream",
     "text": [
      "0.6.1\n"
     ]
    }
   ],
   "source": [
    "import dgl\n",
    "print(dgl.__version__)"
   ]
  },
  {
   "cell_type": "code",
   "execution_count": 8,
   "metadata": {
    "id": "XO-KWj29Eq-g"
   },
   "outputs": [],
   "source": [
    "import time\n",
    "import numpy as np\n",
    "import torch\n",
    "import torch.nn as nn\n",
    "import dgl\n",
    "from dgl.nn import GraphConv\n",
    "from dgl.data import PPIDataset\n",
    "from dgl.dataloading.pytorch import GraphDataLoader\n",
    "from dgl.data.utils import split_dataset"
   ]
  },
  {
   "cell_type": "code",
   "execution_count": 16,
   "metadata": {
    "id": "HOWyo530Eq3a"
   },
   "outputs": [],
   "source": [
    "class GraphConvNet(nn.Module):\n",
    "    def __init__(self, in_channels=3, out_channels=6):\n",
    "        super(GraphConvNet, self).__init__()\n",
    "        self.gcn_0 = GraphConv(in_channels, 64, allow_zero_in_degree=True)\n",
    "        self.gcn_h1 = GraphConv(64, 64, allow_zero_in_degree=True)\n",
    "        self.gcn_h2 = GraphConv(64, 64, allow_zero_in_degree=True)\n",
    "        self.gcn_h3 = GraphConv(64, 64, allow_zero_in_degree=True)\n",
    "        self.gcn_h4 = GraphConv(64, 64, allow_zero_in_degree=True)\n",
    "        self.gcn_h5 = GraphConv(64, 64, allow_zero_in_degree=True)\n",
    "        self.gcn_h6 = GraphConv(64, 64, allow_zero_in_degree=True)\n",
    "        self.gcn_out = GraphConv(64, out_channels, allow_zero_in_degree=True)\n",
    "    def forward(self, g, features):\n",
    "        x = torch.relu(self.gcn_0(g, features))\n",
    "        x = torch.relu(self.gcn_h1(g, x))\n",
    "        x = torch.relu(self.gcn_h2(g, x))\n",
    "        x = torch.relu(self.gcn_h3(g, x))\n",
    "        x = torch.relu(self.gcn_h4(g, x))\n",
    "        x = torch.relu(self.gcn_h5(g, x))\n",
    "        x = torch.relu(self.gcn_h6(g, x))\n",
    "        x = torch.dropout(x, p=0.25, train=self.training)\n",
    "        x = self.gcn_out(g, x)\n",
    "        x = torch.sigmoid(x)\n",
    "        return x"
   ]
  },
  {
   "cell_type": "code",
   "execution_count": 11,
   "metadata": {},
   "outputs": [],
   "source": [
    "dataset = PPIDataset()\n",
    "test_dataset, train_dataset = split_dataset(dataset, [0.1, 0.9], shuffle=True)\n",
    "train_loader = GraphDataLoader(train_dataset, batch_size=8)\n",
    "test_loader = GraphDataLoader(test_dataset, batch_size=1)"
   ]
  },
  {
   "cell_type": "code",
   "execution_count": 12,
   "metadata": {},
   "outputs": [],
   "source": [
    "for batch in train_loader: break"
   ]
  },
  {
   "cell_type": "code",
   "execution_count": 15,
   "metadata": {},
   "outputs": [
    {
     "name": "stdout",
     "output_type": "stream",
     "text": [
      "Graph(num_nodes=17589, num_edges=507823,\n",
      "      ndata_schemes={'label': Scheme(shape=(121,), dtype=torch.float32), '_ID': Scheme(shape=(), dtype=torch.int64), 'feat': Scheme(shape=(50,), dtype=torch.float32)}\n",
      "      edata_schemes={'_ID': Scheme(shape=(), dtype=torch.int64)})\n",
      "in_channels: 50\n",
      "out_channels: 121\n"
     ]
    }
   ],
   "source": [
    "print(batch)\n",
    "in_channels = batch.ndata[\"feat\"].shape[1]\n",
    "out_channels = dataset.num_labels\n",
    "print(f\"in_channels: {in_channels}\")\n",
    "print(f\"out_channels: {out_channels}\")"
   ]
  },
  {
   "cell_type": "code",
   "execution_count": 23,
   "metadata": {},
   "outputs": [],
   "source": [
    "model_dgl = GraphConvNet(in_channels, out_channels)\n",
    "loss_fn = torch.nn.BCELoss()\n",
    "optimizer = torch.optim.Adam(model_dgl.parameters(), lr=1e-3)\n",
    "# my_device = \"cuda\" if torch.cuda.is_available() else \"cpu\"\n",
    "my_device = 'cpu'\n",
    "model_dgl = model_dgl.to(my_device)"
   ]
  },
  {
   "cell_type": "code",
   "execution_count": null,
   "metadata": {
    "id": "9lCUAjquEqte"
   },
   "outputs": [
    {
     "data": {
      "application/vnd.jupyter.widget-view+json": {
       "model_id": "fbd4aef7269240c0a51f8f5d9c3f335a",
       "version_major": 2,
       "version_minor": 0
      },
      "text/plain": [
       "  0%|          | 0/10000 [00:00<?, ?it/s]"
      ]
     },
     "metadata": {},
     "output_type": "display_data"
    },
    {
     "name": "stdout",
     "output_type": "stream",
     "text": [
      "loss at epoch 0 = 0.6928763389587402\n",
      "loss at epoch 100 = 0.562027633190155\n"
     ]
    }
   ],
   "source": [
    "num_epochs = 10000\n",
    "my_seed = 42\n",
    "losses = []\n",
    "time_elapsed = []\n",
    "epochs = []\n",
    "t0 = time.time()\n",
    "for epoch in tqdm(range(num_epochs)):\n",
    "    total_loss = 0.0\n",
    "    batch_count = 0\n",
    "    for batch in train_loader:\n",
    "        optimizer.zero_grad()\n",
    "        batch = batch.to(my_device)\n",
    "        pred = model_dgl(batch, batch.ndata[\"feat\"].to(my_device))\n",
    "        loss = loss_fn(pred, batch.ndata[\"label\"].to(my_device))\n",
    "        loss.backward()\n",
    "        optimizer.step()\n",
    "        total_loss += loss.detach()\n",
    "        batch_count += 1\n",
    "    mean_loss = total_loss / batch_count\n",
    "    losses.append(mean_loss)\n",
    "    epochs.append(epoch)\n",
    "    time_elapsed.append(time.time() - t0)\n",
    "    if epoch % 100 == 0:\n",
    "        print(f\"loss at epoch {epoch} = {mean_loss}\")"
   ]
  },
  {
   "cell_type": "code",
   "execution_count": null,
   "metadata": {
    "id": "MwZ8XAx3_z5d"
   },
   "outputs": [],
   "source": [
    "# get test accuracy score\n",
    "num_correct = 0.\n",
    "num_total = 0.\n",
    "model.eval()\n",
    "for batch in test_loader:\n",
    "    batch = batch.to(my_device)\n",
    "    pred = model(batch, batch.ndata[\"feat\"])\n",
    "    num_correct += (pred.round() == \\ \n",
    "        batch.ndata[\"label\"].to(my_device)).sum()\n",
    "    num_total += pred.shape[0] * pred.shape[1]\n",
    "    np.save(\"dgl.npy\", \\\n",
    "        {\"epochs\": epochs, \\\n",
    "        \"losses\": losses, \\\n",
    "        \"time_elapsed\": time_elapsed})\n",
    "print(f\"test accuracy = {num_correct / num_total}\")"
   ]
  },
  {
   "cell_type": "code",
   "execution_count": null,
   "metadata": {
    "id": "UNydEOM25v3I"
   },
   "outputs": [],
   "source": []
  }
 ],
 "metadata": {
  "accelerator": "GPU",
  "colab": {
   "collapsed_sections": [],
   "name": "tmp_template.ipynb",
   "provenance": []
  },
  "kernelspec": {
   "display_name": "Python 3",
   "language": "python",
   "name": "python3"
  },
  "language_info": {
   "codemirror_mode": {
    "name": "ipython",
    "version": 3
   },
   "file_extension": ".py",
   "mimetype": "text/x-python",
   "name": "python",
   "nbconvert_exporter": "python",
   "pygments_lexer": "ipython3",
   "version": "3.7.13"
  }
 },
 "nbformat": 4,
 "nbformat_minor": 1
}
