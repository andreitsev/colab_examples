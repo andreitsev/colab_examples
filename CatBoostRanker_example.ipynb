{
  "cells": [
    {
      "cell_type": "code",
      "source": [
        "# !pip install -q catboost==1.1.1\n",
        "# !pip install -q matplotlib-venn"
      ],
      "metadata": {
        "colab": {
          "base_uri": "https://localhost:8080/"
        },
        "id": "wJS3DlaPlX4l",
        "outputId": "672997d1-d8cd-4dad-9574-2c00bad48ccc"
      },
      "execution_count": 1,
      "outputs": [
        {
          "output_type": "stream",
          "name": "stdout",
          "text": [
            "\u001b[2K     \u001b[90m━━━━━━━━━━━━━━━━━━━━━━━━━━━━━━━━━━━━━━━━\u001b[0m \u001b[32m76.6/76.6 MB\u001b[0m \u001b[31m9.4 MB/s\u001b[0m eta \u001b[36m0:00:00\u001b[0m\n",
            "\u001b[?25h"
          ]
        }
      ]
    },
    {
      "cell_type": "code",
      "execution_count": 2,
      "metadata": {
        "ExecuteTime": {
          "end_time": "2022-11-25T12:46:22.893294Z",
          "start_time": "2022-11-25T12:46:22.873621Z"
        },
        "id": "ckoMvqB4iu4G"
      },
      "outputs": [],
      "source": [
        "%load_ext autoreload\n",
        "%autoreload 2"
      ]
    },
    {
      "cell_type": "code",
      "execution_count": 3,
      "metadata": {
        "ExecuteTime": {
          "end_time": "2022-11-25T12:46:25.925615Z",
          "start_time": "2022-11-25T12:46:24.461438Z"
        },
        "id": "K0IWuMv1lOar"
      },
      "outputs": [],
      "source": [
        "import os\n",
        "import sys\n",
        "import time\n",
        "import itertools\n",
        "from tqdm.notebook import tqdm\n",
        "import pickle\n",
        "import json\n",
        "import joblib\n",
        "import collections\n",
        "\n",
        "import numpy as np\n",
        "import pandas as pd\n",
        "import matplotlib\n",
        "import matplotlib.pyplot as plt\n",
        "import seaborn as sns\n",
        "%matplotlib inline\n",
        "\n",
        "\n",
        "from warnings import filterwarnings\n",
        "filterwarnings('ignore')\n",
        "from IPython.display import display, clear_output\n",
        "from catboost import Pool, CatBoostRanker"
      ]
    },
    {
      "cell_type": "code",
      "execution_count": 4,
      "metadata": {
        "ExecuteTime": {
          "end_time": "2022-11-25T12:46:28.071489Z",
          "start_time": "2022-11-25T12:46:28.051210Z"
        },
        "id": "sGOsQ6M1lXBi"
      },
      "outputs": [],
      "source": [
        "matplotlib.rcParams['figure.figsize'] = (8, 8)\n",
        "sns.set_style('whitegrid')"
      ]
    },
    {
      "cell_type": "code",
      "source": [
        "from google.colab import output\n",
        "output.enable_custom_widget_manager()"
      ],
      "metadata": {
        "id": "vAZy21new50x"
      },
      "execution_count": 5,
      "outputs": []
    },
    {
      "cell_type": "code",
      "execution_count": 6,
      "metadata": {
        "colab": {
          "base_uri": "https://localhost:8080/"
        },
        "id": "v6QZ4Argqf2S",
        "outputId": "bf7d1c90-ebff-4965-973e-23d8bb0dc87a"
      },
      "outputs": [
        {
          "output_type": "stream",
          "name": "stdout",
          "text": [
            "Mounted at /content/drive\n"
          ]
        }
      ],
      "source": [
        "# Подключение данных гугл диска\n",
        "from google.colab import drive\n",
        "drive.mount('/content/drive')"
      ]
    },
    {
      "cell_type": "markdown",
      "metadata": {
        "id": "4nS7_ON8mJJx"
      },
      "source": [
        "---"
      ]
    },
    {
      "cell_type": "code",
      "source": [
        "from catboost.datasets import msrank_10k\n",
        "\n",
        "train_df, test_df = msrank_10k()\n",
        "print(f\"train_df: {train_df.shape[0]:,} x {train_df.shape[1]:,}\")\n",
        "train_df.sort_values(by=[1], ascending=True, inplace=True)\n",
        "display(train_df.head(2))\n",
        "print(f\"test_df: {test_df.shape[0]:,} x {test_df.shape[1]:,}\")\n",
        "test_df.sort_values(by=[1], ascending=True, inplace=True)\n",
        "display(test_df.head(2))\n",
        "\n",
        "X_train = train_df.drop([0, 1], axis=1).values\n",
        "y_train = train_df[0].values\n",
        "queries_train = train_df[1].values\n",
        "\n",
        "X_test = test_df.drop([0, 1], axis=1).values\n",
        "y_test = test_df[0].values\n",
        "queries_test = test_df[1].values"
      ],
      "metadata": {
        "colab": {
          "base_uri": "https://localhost:8080/",
          "height": 303
        },
        "id": "YHqdWItft7Ab",
        "outputId": "94f63b04-9cbb-425a-8eb3-10e249ac9331"
      },
      "execution_count": 7,
      "outputs": [
        {
          "output_type": "stream",
          "name": "stdout",
          "text": [
            "train_df: 10,000 x 138\n"
          ]
        },
        {
          "output_type": "display_data",
          "data": {
            "text/plain": [
              "    0    1    2    3    4    5    6    7    8    9    ...  128       129  130  \\\n",
              "0   2.0    1    3    3    0    0    3  1.0  1.0  0.0  ...   62  11089534    2   \n",
              "62  0.0    1    3    0    3    0    3  1.0  0.0  1.0  ...   44         5   30   \n",
              "\n",
              "      131    132  133  134  135  136  137  \n",
              "0     116  64034   13    3    0    0  0.0  \n",
              "62  23836  63634    2    4    0    0  0.0  \n",
              "\n",
              "[2 rows x 138 columns]"
            ],
            "text/html": [
              "\n",
              "\n",
              "  <div id=\"df-6fca226c-a844-4065-a86f-7b66ba55e27d\">\n",
              "    <div class=\"colab-df-container\">\n",
              "      <div>\n",
              "<style scoped>\n",
              "    .dataframe tbody tr th:only-of-type {\n",
              "        vertical-align: middle;\n",
              "    }\n",
              "\n",
              "    .dataframe tbody tr th {\n",
              "        vertical-align: top;\n",
              "    }\n",
              "\n",
              "    .dataframe thead th {\n",
              "        text-align: right;\n",
              "    }\n",
              "</style>\n",
              "<table border=\"1\" class=\"dataframe\">\n",
              "  <thead>\n",
              "    <tr style=\"text-align: right;\">\n",
              "      <th></th>\n",
              "      <th>0</th>\n",
              "      <th>1</th>\n",
              "      <th>2</th>\n",
              "      <th>3</th>\n",
              "      <th>4</th>\n",
              "      <th>5</th>\n",
              "      <th>6</th>\n",
              "      <th>7</th>\n",
              "      <th>8</th>\n",
              "      <th>9</th>\n",
              "      <th>...</th>\n",
              "      <th>128</th>\n",
              "      <th>129</th>\n",
              "      <th>130</th>\n",
              "      <th>131</th>\n",
              "      <th>132</th>\n",
              "      <th>133</th>\n",
              "      <th>134</th>\n",
              "      <th>135</th>\n",
              "      <th>136</th>\n",
              "      <th>137</th>\n",
              "    </tr>\n",
              "  </thead>\n",
              "  <tbody>\n",
              "    <tr>\n",
              "      <th>0</th>\n",
              "      <td>2.0</td>\n",
              "      <td>1</td>\n",
              "      <td>3</td>\n",
              "      <td>3</td>\n",
              "      <td>0</td>\n",
              "      <td>0</td>\n",
              "      <td>3</td>\n",
              "      <td>1.0</td>\n",
              "      <td>1.0</td>\n",
              "      <td>0.0</td>\n",
              "      <td>...</td>\n",
              "      <td>62</td>\n",
              "      <td>11089534</td>\n",
              "      <td>2</td>\n",
              "      <td>116</td>\n",
              "      <td>64034</td>\n",
              "      <td>13</td>\n",
              "      <td>3</td>\n",
              "      <td>0</td>\n",
              "      <td>0</td>\n",
              "      <td>0.0</td>\n",
              "    </tr>\n",
              "    <tr>\n",
              "      <th>62</th>\n",
              "      <td>0.0</td>\n",
              "      <td>1</td>\n",
              "      <td>3</td>\n",
              "      <td>0</td>\n",
              "      <td>3</td>\n",
              "      <td>0</td>\n",
              "      <td>3</td>\n",
              "      <td>1.0</td>\n",
              "      <td>0.0</td>\n",
              "      <td>1.0</td>\n",
              "      <td>...</td>\n",
              "      <td>44</td>\n",
              "      <td>5</td>\n",
              "      <td>30</td>\n",
              "      <td>23836</td>\n",
              "      <td>63634</td>\n",
              "      <td>2</td>\n",
              "      <td>4</td>\n",
              "      <td>0</td>\n",
              "      <td>0</td>\n",
              "      <td>0.0</td>\n",
              "    </tr>\n",
              "  </tbody>\n",
              "</table>\n",
              "<p>2 rows × 138 columns</p>\n",
              "</div>\n",
              "      <button class=\"colab-df-convert\" onclick=\"convertToInteractive('df-6fca226c-a844-4065-a86f-7b66ba55e27d')\"\n",
              "              title=\"Convert this dataframe to an interactive table.\"\n",
              "              style=\"display:none;\">\n",
              "\n",
              "  <svg xmlns=\"http://www.w3.org/2000/svg\" height=\"24px\"viewBox=\"0 0 24 24\"\n",
              "       width=\"24px\">\n",
              "    <path d=\"M0 0h24v24H0V0z\" fill=\"none\"/>\n",
              "    <path d=\"M18.56 5.44l.94 2.06.94-2.06 2.06-.94-2.06-.94-.94-2.06-.94 2.06-2.06.94zm-11 1L8.5 8.5l.94-2.06 2.06-.94-2.06-.94L8.5 2.5l-.94 2.06-2.06.94zm10 10l.94 2.06.94-2.06 2.06-.94-2.06-.94-.94-2.06-.94 2.06-2.06.94z\"/><path d=\"M17.41 7.96l-1.37-1.37c-.4-.4-.92-.59-1.43-.59-.52 0-1.04.2-1.43.59L10.3 9.45l-7.72 7.72c-.78.78-.78 2.05 0 2.83L4 21.41c.39.39.9.59 1.41.59.51 0 1.02-.2 1.41-.59l7.78-7.78 2.81-2.81c.8-.78.8-2.07 0-2.86zM5.41 20L4 18.59l7.72-7.72 1.47 1.35L5.41 20z\"/>\n",
              "  </svg>\n",
              "      </button>\n",
              "\n",
              "\n",
              "\n",
              "    <div id=\"df-675c3a57-2e02-4edb-a3ff-ebd65e480e2b\">\n",
              "      <button class=\"colab-df-quickchart\" onclick=\"quickchart('df-675c3a57-2e02-4edb-a3ff-ebd65e480e2b')\"\n",
              "              title=\"Suggest charts.\"\n",
              "              style=\"display:none;\">\n",
              "\n",
              "<svg xmlns=\"http://www.w3.org/2000/svg\" height=\"24px\"viewBox=\"0 0 24 24\"\n",
              "     width=\"24px\">\n",
              "    <g>\n",
              "        <path d=\"M19 3H5c-1.1 0-2 .9-2 2v14c0 1.1.9 2 2 2h14c1.1 0 2-.9 2-2V5c0-1.1-.9-2-2-2zM9 17H7v-7h2v7zm4 0h-2V7h2v10zm4 0h-2v-4h2v4z\"/>\n",
              "    </g>\n",
              "</svg>\n",
              "      </button>\n",
              "    </div>\n",
              "\n",
              "<style>\n",
              "  .colab-df-quickchart {\n",
              "    background-color: #E8F0FE;\n",
              "    border: none;\n",
              "    border-radius: 50%;\n",
              "    cursor: pointer;\n",
              "    display: none;\n",
              "    fill: #1967D2;\n",
              "    height: 32px;\n",
              "    padding: 0 0 0 0;\n",
              "    width: 32px;\n",
              "  }\n",
              "\n",
              "  .colab-df-quickchart:hover {\n",
              "    background-color: #E2EBFA;\n",
              "    box-shadow: 0px 1px 2px rgba(60, 64, 67, 0.3), 0px 1px 3px 1px rgba(60, 64, 67, 0.15);\n",
              "    fill: #174EA6;\n",
              "  }\n",
              "\n",
              "  [theme=dark] .colab-df-quickchart {\n",
              "    background-color: #3B4455;\n",
              "    fill: #D2E3FC;\n",
              "  }\n",
              "\n",
              "  [theme=dark] .colab-df-quickchart:hover {\n",
              "    background-color: #434B5C;\n",
              "    box-shadow: 0px 1px 3px 1px rgba(0, 0, 0, 0.15);\n",
              "    filter: drop-shadow(0px 1px 2px rgba(0, 0, 0, 0.3));\n",
              "    fill: #FFFFFF;\n",
              "  }\n",
              "</style>\n",
              "\n",
              "    <script>\n",
              "      async function quickchart(key) {\n",
              "        const containerElement = document.querySelector('#' + key);\n",
              "        const charts = await google.colab.kernel.invokeFunction(\n",
              "            'suggestCharts', [key], {});\n",
              "      }\n",
              "    </script>\n",
              "\n",
              "      <script>\n",
              "\n",
              "function displayQuickchartButton(domScope) {\n",
              "  let quickchartButtonEl =\n",
              "    domScope.querySelector('#df-675c3a57-2e02-4edb-a3ff-ebd65e480e2b button.colab-df-quickchart');\n",
              "  quickchartButtonEl.style.display =\n",
              "    google.colab.kernel.accessAllowed ? 'block' : 'none';\n",
              "}\n",
              "\n",
              "        displayQuickchartButton(document);\n",
              "      </script>\n",
              "      <style>\n",
              "    .colab-df-container {\n",
              "      display:flex;\n",
              "      flex-wrap:wrap;\n",
              "      gap: 12px;\n",
              "    }\n",
              "\n",
              "    .colab-df-convert {\n",
              "      background-color: #E8F0FE;\n",
              "      border: none;\n",
              "      border-radius: 50%;\n",
              "      cursor: pointer;\n",
              "      display: none;\n",
              "      fill: #1967D2;\n",
              "      height: 32px;\n",
              "      padding: 0 0 0 0;\n",
              "      width: 32px;\n",
              "    }\n",
              "\n",
              "    .colab-df-convert:hover {\n",
              "      background-color: #E2EBFA;\n",
              "      box-shadow: 0px 1px 2px rgba(60, 64, 67, 0.3), 0px 1px 3px 1px rgba(60, 64, 67, 0.15);\n",
              "      fill: #174EA6;\n",
              "    }\n",
              "\n",
              "    [theme=dark] .colab-df-convert {\n",
              "      background-color: #3B4455;\n",
              "      fill: #D2E3FC;\n",
              "    }\n",
              "\n",
              "    [theme=dark] .colab-df-convert:hover {\n",
              "      background-color: #434B5C;\n",
              "      box-shadow: 0px 1px 3px 1px rgba(0, 0, 0, 0.15);\n",
              "      filter: drop-shadow(0px 1px 2px rgba(0, 0, 0, 0.3));\n",
              "      fill: #FFFFFF;\n",
              "    }\n",
              "  </style>\n",
              "\n",
              "      <script>\n",
              "        const buttonEl =\n",
              "          document.querySelector('#df-6fca226c-a844-4065-a86f-7b66ba55e27d button.colab-df-convert');\n",
              "        buttonEl.style.display =\n",
              "          google.colab.kernel.accessAllowed ? 'block' : 'none';\n",
              "\n",
              "        async function convertToInteractive(key) {\n",
              "          const element = document.querySelector('#df-6fca226c-a844-4065-a86f-7b66ba55e27d');\n",
              "          const dataTable =\n",
              "            await google.colab.kernel.invokeFunction('convertToInteractive',\n",
              "                                                     [key], {});\n",
              "          if (!dataTable) return;\n",
              "\n",
              "          const docLinkHtml = 'Like what you see? Visit the ' +\n",
              "            '<a target=\"_blank\" href=https://colab.research.google.com/notebooks/data_table.ipynb>data table notebook</a>'\n",
              "            + ' to learn more about interactive tables.';\n",
              "          element.innerHTML = '';\n",
              "          dataTable['output_type'] = 'display_data';\n",
              "          await google.colab.output.renderOutput(dataTable, element);\n",
              "          const docLink = document.createElement('div');\n",
              "          docLink.innerHTML = docLinkHtml;\n",
              "          element.appendChild(docLink);\n",
              "        }\n",
              "      </script>\n",
              "    </div>\n",
              "  </div>\n"
            ]
          },
          "metadata": {}
        },
        {
          "output_type": "stream",
          "name": "stdout",
          "text": [
            "test_df: 10,000 x 138\n"
          ]
        },
        {
          "output_type": "display_data",
          "data": {
            "text/plain": [
              "     0    1    2    3    4    5    6    7    8    9    ...  128  129  130  \\\n",
              "0    2.0   13    2    0    2    1    2  1.0  0.0  1.0  ...   35    1    0   \n",
              "102  1.0   13    2    0    2    0    2  1.0  0.0  1.0  ...   23   53    0   \n",
              "\n",
              "       131    132  133  134  135  136  137  \n",
              "0      266  25070   28    7    0    0  0.0  \n",
              "102  15435   4867   10  108    0    0  0.0  \n",
              "\n",
              "[2 rows x 138 columns]"
            ],
            "text/html": [
              "\n",
              "\n",
              "  <div id=\"df-11a19e3e-7771-421d-9f13-b216c84b97cf\">\n",
              "    <div class=\"colab-df-container\">\n",
              "      <div>\n",
              "<style scoped>\n",
              "    .dataframe tbody tr th:only-of-type {\n",
              "        vertical-align: middle;\n",
              "    }\n",
              "\n",
              "    .dataframe tbody tr th {\n",
              "        vertical-align: top;\n",
              "    }\n",
              "\n",
              "    .dataframe thead th {\n",
              "        text-align: right;\n",
              "    }\n",
              "</style>\n",
              "<table border=\"1\" class=\"dataframe\">\n",
              "  <thead>\n",
              "    <tr style=\"text-align: right;\">\n",
              "      <th></th>\n",
              "      <th>0</th>\n",
              "      <th>1</th>\n",
              "      <th>2</th>\n",
              "      <th>3</th>\n",
              "      <th>4</th>\n",
              "      <th>5</th>\n",
              "      <th>6</th>\n",
              "      <th>7</th>\n",
              "      <th>8</th>\n",
              "      <th>9</th>\n",
              "      <th>...</th>\n",
              "      <th>128</th>\n",
              "      <th>129</th>\n",
              "      <th>130</th>\n",
              "      <th>131</th>\n",
              "      <th>132</th>\n",
              "      <th>133</th>\n",
              "      <th>134</th>\n",
              "      <th>135</th>\n",
              "      <th>136</th>\n",
              "      <th>137</th>\n",
              "    </tr>\n",
              "  </thead>\n",
              "  <tbody>\n",
              "    <tr>\n",
              "      <th>0</th>\n",
              "      <td>2.0</td>\n",
              "      <td>13</td>\n",
              "      <td>2</td>\n",
              "      <td>0</td>\n",
              "      <td>2</td>\n",
              "      <td>1</td>\n",
              "      <td>2</td>\n",
              "      <td>1.0</td>\n",
              "      <td>0.0</td>\n",
              "      <td>1.0</td>\n",
              "      <td>...</td>\n",
              "      <td>35</td>\n",
              "      <td>1</td>\n",
              "      <td>0</td>\n",
              "      <td>266</td>\n",
              "      <td>25070</td>\n",
              "      <td>28</td>\n",
              "      <td>7</td>\n",
              "      <td>0</td>\n",
              "      <td>0</td>\n",
              "      <td>0.0</td>\n",
              "    </tr>\n",
              "    <tr>\n",
              "      <th>102</th>\n",
              "      <td>1.0</td>\n",
              "      <td>13</td>\n",
              "      <td>2</td>\n",
              "      <td>0</td>\n",
              "      <td>2</td>\n",
              "      <td>0</td>\n",
              "      <td>2</td>\n",
              "      <td>1.0</td>\n",
              "      <td>0.0</td>\n",
              "      <td>1.0</td>\n",
              "      <td>...</td>\n",
              "      <td>23</td>\n",
              "      <td>53</td>\n",
              "      <td>0</td>\n",
              "      <td>15435</td>\n",
              "      <td>4867</td>\n",
              "      <td>10</td>\n",
              "      <td>108</td>\n",
              "      <td>0</td>\n",
              "      <td>0</td>\n",
              "      <td>0.0</td>\n",
              "    </tr>\n",
              "  </tbody>\n",
              "</table>\n",
              "<p>2 rows × 138 columns</p>\n",
              "</div>\n",
              "      <button class=\"colab-df-convert\" onclick=\"convertToInteractive('df-11a19e3e-7771-421d-9f13-b216c84b97cf')\"\n",
              "              title=\"Convert this dataframe to an interactive table.\"\n",
              "              style=\"display:none;\">\n",
              "\n",
              "  <svg xmlns=\"http://www.w3.org/2000/svg\" height=\"24px\"viewBox=\"0 0 24 24\"\n",
              "       width=\"24px\">\n",
              "    <path d=\"M0 0h24v24H0V0z\" fill=\"none\"/>\n",
              "    <path d=\"M18.56 5.44l.94 2.06.94-2.06 2.06-.94-2.06-.94-.94-2.06-.94 2.06-2.06.94zm-11 1L8.5 8.5l.94-2.06 2.06-.94-2.06-.94L8.5 2.5l-.94 2.06-2.06.94zm10 10l.94 2.06.94-2.06 2.06-.94-2.06-.94-.94-2.06-.94 2.06-2.06.94z\"/><path d=\"M17.41 7.96l-1.37-1.37c-.4-.4-.92-.59-1.43-.59-.52 0-1.04.2-1.43.59L10.3 9.45l-7.72 7.72c-.78.78-.78 2.05 0 2.83L4 21.41c.39.39.9.59 1.41.59.51 0 1.02-.2 1.41-.59l7.78-7.78 2.81-2.81c.8-.78.8-2.07 0-2.86zM5.41 20L4 18.59l7.72-7.72 1.47 1.35L5.41 20z\"/>\n",
              "  </svg>\n",
              "      </button>\n",
              "\n",
              "\n",
              "\n",
              "    <div id=\"df-b1a7b350-57bc-4e83-a126-df92faa8b4fc\">\n",
              "      <button class=\"colab-df-quickchart\" onclick=\"quickchart('df-b1a7b350-57bc-4e83-a126-df92faa8b4fc')\"\n",
              "              title=\"Suggest charts.\"\n",
              "              style=\"display:none;\">\n",
              "\n",
              "<svg xmlns=\"http://www.w3.org/2000/svg\" height=\"24px\"viewBox=\"0 0 24 24\"\n",
              "     width=\"24px\">\n",
              "    <g>\n",
              "        <path d=\"M19 3H5c-1.1 0-2 .9-2 2v14c0 1.1.9 2 2 2h14c1.1 0 2-.9 2-2V5c0-1.1-.9-2-2-2zM9 17H7v-7h2v7zm4 0h-2V7h2v10zm4 0h-2v-4h2v4z\"/>\n",
              "    </g>\n",
              "</svg>\n",
              "      </button>\n",
              "    </div>\n",
              "\n",
              "<style>\n",
              "  .colab-df-quickchart {\n",
              "    background-color: #E8F0FE;\n",
              "    border: none;\n",
              "    border-radius: 50%;\n",
              "    cursor: pointer;\n",
              "    display: none;\n",
              "    fill: #1967D2;\n",
              "    height: 32px;\n",
              "    padding: 0 0 0 0;\n",
              "    width: 32px;\n",
              "  }\n",
              "\n",
              "  .colab-df-quickchart:hover {\n",
              "    background-color: #E2EBFA;\n",
              "    box-shadow: 0px 1px 2px rgba(60, 64, 67, 0.3), 0px 1px 3px 1px rgba(60, 64, 67, 0.15);\n",
              "    fill: #174EA6;\n",
              "  }\n",
              "\n",
              "  [theme=dark] .colab-df-quickchart {\n",
              "    background-color: #3B4455;\n",
              "    fill: #D2E3FC;\n",
              "  }\n",
              "\n",
              "  [theme=dark] .colab-df-quickchart:hover {\n",
              "    background-color: #434B5C;\n",
              "    box-shadow: 0px 1px 3px 1px rgba(0, 0, 0, 0.15);\n",
              "    filter: drop-shadow(0px 1px 2px rgba(0, 0, 0, 0.3));\n",
              "    fill: #FFFFFF;\n",
              "  }\n",
              "</style>\n",
              "\n",
              "    <script>\n",
              "      async function quickchart(key) {\n",
              "        const containerElement = document.querySelector('#' + key);\n",
              "        const charts = await google.colab.kernel.invokeFunction(\n",
              "            'suggestCharts', [key], {});\n",
              "      }\n",
              "    </script>\n",
              "\n",
              "      <script>\n",
              "\n",
              "function displayQuickchartButton(domScope) {\n",
              "  let quickchartButtonEl =\n",
              "    domScope.querySelector('#df-b1a7b350-57bc-4e83-a126-df92faa8b4fc button.colab-df-quickchart');\n",
              "  quickchartButtonEl.style.display =\n",
              "    google.colab.kernel.accessAllowed ? 'block' : 'none';\n",
              "}\n",
              "\n",
              "        displayQuickchartButton(document);\n",
              "      </script>\n",
              "      <style>\n",
              "    .colab-df-container {\n",
              "      display:flex;\n",
              "      flex-wrap:wrap;\n",
              "      gap: 12px;\n",
              "    }\n",
              "\n",
              "    .colab-df-convert {\n",
              "      background-color: #E8F0FE;\n",
              "      border: none;\n",
              "      border-radius: 50%;\n",
              "      cursor: pointer;\n",
              "      display: none;\n",
              "      fill: #1967D2;\n",
              "      height: 32px;\n",
              "      padding: 0 0 0 0;\n",
              "      width: 32px;\n",
              "    }\n",
              "\n",
              "    .colab-df-convert:hover {\n",
              "      background-color: #E2EBFA;\n",
              "      box-shadow: 0px 1px 2px rgba(60, 64, 67, 0.3), 0px 1px 3px 1px rgba(60, 64, 67, 0.15);\n",
              "      fill: #174EA6;\n",
              "    }\n",
              "\n",
              "    [theme=dark] .colab-df-convert {\n",
              "      background-color: #3B4455;\n",
              "      fill: #D2E3FC;\n",
              "    }\n",
              "\n",
              "    [theme=dark] .colab-df-convert:hover {\n",
              "      background-color: #434B5C;\n",
              "      box-shadow: 0px 1px 3px 1px rgba(0, 0, 0, 0.15);\n",
              "      filter: drop-shadow(0px 1px 2px rgba(0, 0, 0, 0.3));\n",
              "      fill: #FFFFFF;\n",
              "    }\n",
              "  </style>\n",
              "\n",
              "      <script>\n",
              "        const buttonEl =\n",
              "          document.querySelector('#df-11a19e3e-7771-421d-9f13-b216c84b97cf button.colab-df-convert');\n",
              "        buttonEl.style.display =\n",
              "          google.colab.kernel.accessAllowed ? 'block' : 'none';\n",
              "\n",
              "        async function convertToInteractive(key) {\n",
              "          const element = document.querySelector('#df-11a19e3e-7771-421d-9f13-b216c84b97cf');\n",
              "          const dataTable =\n",
              "            await google.colab.kernel.invokeFunction('convertToInteractive',\n",
              "                                                     [key], {});\n",
              "          if (!dataTable) return;\n",
              "\n",
              "          const docLinkHtml = 'Like what you see? Visit the ' +\n",
              "            '<a target=\"_blank\" href=https://colab.research.google.com/notebooks/data_table.ipynb>data table notebook</a>'\n",
              "            + ' to learn more about interactive tables.';\n",
              "          element.innerHTML = '';\n",
              "          dataTable['output_type'] = 'display_data';\n",
              "          await google.colab.output.renderOutput(dataTable, element);\n",
              "          const docLink = document.createElement('div');\n",
              "          docLink.innerHTML = docLinkHtml;\n",
              "          element.appendChild(docLink);\n",
              "        }\n",
              "      </script>\n",
              "    </div>\n",
              "  </div>\n"
            ]
          },
          "metadata": {}
        }
      ]
    },
    {
      "cell_type": "code",
      "source": [
        "from matplotlib_venn import venn2\n",
        "venn2(\n",
        "    subsets=[\n",
        "        set(queries_train),\n",
        "        set(queries_test),\n",
        "    ],\n",
        "    set_labels=['qid_train', 'qid_test']\n",
        ");"
      ],
      "metadata": {
        "colab": {
          "base_uri": "https://localhost:8080/",
          "height": 316
        },
        "id": "tpYRy07xubqM",
        "outputId": "c4eef2e7-b89d-48a8-9c44-1aac5306aa9c"
      },
      "execution_count": 8,
      "outputs": [
        {
          "output_type": "display_data",
          "data": {
            "text/plain": [
              "<Figure size 800x800 with 1 Axes>"
            ],
            "image/png": "[encoded data removed]"
          },
          "metadata": {}
        }
      ]
    },
    {
      "cell_type": "code",
      "source": [
        "#################### making groups #########################\n",
        "train_groups_dict = {}\n",
        "unq_queries = np.unique(queries_train)\n",
        "i = 0\n",
        "for query_id in tqdm(unq_queries):\n",
        "  train_groups_dict[query_id] = [\n",
        "      (idx, rel_score) for idx, rel_score in enumerate(y_train[queries_train == query_id], start=i)\n",
        "  ]\n",
        "  i += len(train_groups_dict[query_id])\n",
        "train_group_idxs = list(itertools.chain.from_iterable([[key]*len(vals) for key, vals in train_groups_dict.items()]))\n",
        "\n",
        "######################### making pairs #########################\n",
        "pairs = []\n",
        "for group_id, docs_and_relevances in tqdm(train_groups_dict.items()):\n",
        "  for (doci, reli), (docj, relj) in itertools.combinations(docs_and_relevances, 2):\n",
        "    if reli > relj:\n",
        "      pairs.append((doci, docj))\n",
        "    else:\n",
        "      pairs.append((docj, doci))\n",
        "print(len(pairs))"
      ],
      "metadata": {
        "colab": {
          "base_uri": "https://localhost:8080/",
          "height": 100,
          "referenced_widgets": [
            "632ba2f51c8b40e0bce56f15567a354b",
            "6a8f1e1937604dd4a082a9dac5be4e9d",
            "9e6ced2d187243d6a5d39c7da02a3c23",
            "bc73607693f74cbba9b50ce71fc4a70e",
            "c427b9952dcf4593bd286cb679186e89",
            "50ae290685ca4116ab0ee9c6d0091b13",
            "ee24155e0b9b45eebceac2c5549a68bf",
            "8335313760934ad3b7e75ba64ff5b764",
            "9507b3410e17420e94b2129c38a4cf20",
            "862b5a2e58bf48e1b00960b88866aad3",
            "901a0082d63441b195073c3bd158bfb7",
            "f37503c7be224b99bbbf16bd32e4d8e1",
            "aaef550555f34007ae416cecc87f25e4",
            "a7ac1d3576444c759eac1f00ee33dffe",
            "87e042078a3347278999a7b1f6cd8c71",
            "64cab301918a47bc988c310826a55f91",
            "0791711b80244aca86cccd2155299359",
            "fa455d22c4464a87b7d5203209e28103",
            "f560705ef900447b8e525013d4aafdbc",
            "875283f86f3f499d87af8b2fff26c297",
            "b804761e9be944bcab53fdbba16dc71a",
            "bcd96a931f1c4b7790d65598de5d5961"
          ]
        },
        "id": "cA1ANU7tDKRa",
        "outputId": "195323a8-7b75-4f33-e373-01f56516edf7"
      },
      "execution_count": 74,
      "outputs": [
        {
          "output_type": "display_data",
          "data": {
            "text/plain": [
              "  0%|          | 0/87 [00:00<?, ?it/s]"
            ],
            "application/vnd.jupyter.widget-view+json": {
              "version_major": 2,
              "version_minor": 0,
              "model_id": "632ba2f51c8b40e0bce56f15567a354b"
            }
          },
          "metadata": {
            "application/vnd.jupyter.widget-view+json": {
              "colab": {
                "custom_widget_manager": {
                  "url": "https://ssl.gstatic.com/colaboratory-static/widgets/colab-cdn-widget-manager/b3e629b1971e1542/manager.min.js"
                }
              }
            }
          }
        },
        {
          "output_type": "display_data",
          "data": {
            "text/plain": [
              "  0%|          | 0/87 [00:00<?, ?it/s]"
            ],
            "application/vnd.jupyter.widget-view+json": {
              "version_major": 2,
              "version_minor": 0,
              "model_id": "f37503c7be224b99bbbf16bd32e4d8e1"
            }
          },
          "metadata": {
            "application/vnd.jupyter.widget-view+json": {
              "colab": {
                "custom_widget_manager": {
                  "url": "https://ssl.gstatic.com/colaboratory-static/widgets/colab-cdn-widget-manager/b3e629b1971e1542/manager.min.js"
                }
              }
            }
          }
        },
        {
          "output_type": "stream",
          "name": "stdout",
          "text": [
            "740487\n"
          ]
        }
      ]
    },
    {
      "cell_type": "code",
      "source": [
        "from catboost import Pool, CatBoostRanker"
      ],
      "metadata": {
        "id": "RsNBYcdBvKNE"
      },
      "execution_count": 14,
      "outputs": []
    },
    {
      "cell_type": "code",
      "source": [
        "train_pool = Pool(\n",
        "    data=X_train,\n",
        "    label=y_train / np.max(y_train),\n",
        "    group_id=train_group_idxs,\n",
        "    pairs=pairs\n",
        ")\n",
        "\n",
        "test_pool = Pool(\n",
        "    data=X_test,\n",
        "    label=y_test / np.max(y_test),\n",
        "    group_id=queries_test,\n",
        "    # pairs=pairs\n",
        ")"
      ],
      "metadata": {
        "id": "rAHP_ZcMiggv"
      },
      "execution_count": 78,
      "outputs": []
    },
    {
      "cell_type": "code",
      "source": [
        "cbr = CatBoostRanker(\n",
        "    iterations=1000,\n",
        "    learning_rate=0.05,\n",
        "    # loss_function='PairLogitPairwise',\n",
        "    loss_function='YetiRankPairwise',\n",
        "    eval_metric='NDCG',\n",
        "    verbose=20,\n",
        "    task_type='GPU',\n",
        ")\n",
        "cbr.fit(train_pool, eval_set=test_pool, plot=True)"
      ],
      "metadata": {
        "colab": {
          "base_uri": "https://localhost:8080/",
          "height": 1000,
          "referenced_widgets": [
            "a80b987400d045a0b00f7f2d2c3c90f0"
          ]
        },
        "id": "ZS_wWn7LilnR",
        "outputId": "9e2aa7b9-e204-48d5-f941-9c46ef342037"
      },
      "execution_count": 79,
      "outputs": [
        {
          "output_type": "display_data",
          "data": {
            "text/plain": [
              "MetricVisualizer(layout=Layout(align_self='stretch', height='500px'))"
            ],
            "application/vnd.jupyter.widget-view+json": {
              "version_major": 2,
              "version_minor": 0,
              "model_id": "a80b987400d045a0b00f7f2d2c3c90f0"
            }
          },
          "metadata": {}
        },
        {
          "output_type": "stream",
          "name": "stderr",
          "text": [
            "Default metric period is 5 because PFound, NDCG is/are not implemented for GPU\n",
            "Metric PFound is not implemented on GPU. Will use CPU for metric computation, this could significantly affect learning time\n",
            "Metric NDCG:type=Base is not implemented on GPU. Will use CPU for metric computation, this could significantly affect learning time\n"
          ]
        },
        {
          "output_type": "stream",
          "name": "stdout",
          "text": [
            "0:\ttest: 0.6471616\tbest: 0.6471616 (0)\ttotal: 18.3ms\tremaining: 18.3s\n",
            "20:\ttest: 0.7302277\tbest: 0.7302277 (20)\ttotal: 337ms\tremaining: 15.7s\n",
            "40:\ttest: 0.7313227\tbest: 0.7314236 (35)\ttotal: 647ms\tremaining: 15.1s\n",
            "60:\ttest: 0.7368255\tbest: 0.7368255 (60)\ttotal: 957ms\tremaining: 14.7s\n",
            "80:\ttest: 0.7343360\tbest: 0.7368255 (60)\ttotal: 1.27s\tremaining: 14.4s\n",
            "100:\ttest: 0.7386716\tbest: 0.7388079 (95)\ttotal: 1.58s\tremaining: 14s\n",
            "120:\ttest: 0.7387429\tbest: 0.7391867 (105)\ttotal: 1.89s\tremaining: 13.7s\n",
            "140:\ttest: 0.7416370\tbest: 0.7431247 (135)\ttotal: 2.2s\tremaining: 13.4s\n",
            "160:\ttest: 0.7434251\tbest: 0.7435499 (155)\ttotal: 2.52s\tremaining: 13.1s\n",
            "180:\ttest: 0.7427357\tbest: 0.7437211 (175)\ttotal: 2.83s\tremaining: 12.8s\n",
            "200:\ttest: 0.7431648\tbest: 0.7437339 (185)\ttotal: 3.15s\tremaining: 12.5s\n",
            "220:\ttest: 0.7437605\tbest: 0.7437605 (220)\ttotal: 3.46s\tremaining: 12.2s\n",
            "240:\ttest: 0.7440272\tbest: 0.7440272 (240)\ttotal: 3.76s\tremaining: 11.8s\n",
            "260:\ttest: 0.7448078\tbest: 0.7448147 (250)\ttotal: 4.06s\tremaining: 11.5s\n",
            "280:\ttest: 0.7458147\tbest: 0.7458147 (280)\ttotal: 4.36s\tremaining: 11.2s\n",
            "300:\ttest: 0.7465015\tbest: 0.7467001 (295)\ttotal: 4.66s\tremaining: 10.8s\n",
            "320:\ttest: 0.7464363\tbest: 0.7467001 (295)\ttotal: 4.96s\tremaining: 10.5s\n",
            "340:\ttest: 0.7453306\tbest: 0.7467001 (295)\ttotal: 5.27s\tremaining: 10.2s\n",
            "360:\ttest: 0.7461657\tbest: 0.7467001 (295)\ttotal: 5.57s\tremaining: 9.86s\n",
            "380:\ttest: 0.7457742\tbest: 0.7467001 (295)\ttotal: 5.87s\tremaining: 9.54s\n",
            "400:\ttest: 0.7485750\tbest: 0.7485770 (395)\ttotal: 6.17s\tremaining: 9.22s\n",
            "420:\ttest: 0.7488177\tbest: 0.7494253 (405)\ttotal: 6.48s\tremaining: 8.91s\n",
            "440:\ttest: 0.7499495\tbest: 0.7499495 (440)\ttotal: 6.77s\tremaining: 8.59s\n",
            "460:\ttest: 0.7486817\tbest: 0.7499495 (440)\ttotal: 7.07s\tremaining: 8.27s\n",
            "480:\ttest: 0.7481283\tbest: 0.7499495 (440)\ttotal: 7.38s\tremaining: 7.96s\n",
            "500:\ttest: 0.7475506\tbest: 0.7499495 (440)\ttotal: 7.68s\tremaining: 7.65s\n",
            "520:\ttest: 0.7484668\tbest: 0.7499495 (440)\ttotal: 7.99s\tremaining: 7.34s\n",
            "540:\ttest: 0.7491137\tbest: 0.7499495 (440)\ttotal: 8.29s\tremaining: 7.03s\n",
            "560:\ttest: 0.7495414\tbest: 0.7501808 (545)\ttotal: 8.6s\tremaining: 6.73s\n",
            "580:\ttest: 0.7503075\tbest: 0.7503075 (580)\ttotal: 8.91s\tremaining: 6.42s\n",
            "600:\ttest: 0.7491816\tbest: 0.7503075 (580)\ttotal: 9.2s\tremaining: 6.11s\n",
            "620:\ttest: 0.7501939\tbest: 0.7504876 (610)\ttotal: 9.51s\tremaining: 5.8s\n",
            "640:\ttest: 0.7510721\tbest: 0.7511346 (635)\ttotal: 9.8s\tremaining: 5.49s\n",
            "660:\ttest: 0.7526774\tbest: 0.7526774 (660)\ttotal: 10.1s\tremaining: 5.18s\n",
            "680:\ttest: 0.7520143\tbest: 0.7526774 (660)\ttotal: 10.4s\tremaining: 4.87s\n",
            "700:\ttest: 0.7515514\tbest: 0.7526774 (660)\ttotal: 10.8s\tremaining: 4.62s\n",
            "720:\ttest: 0.7523220\tbest: 0.7531377 (705)\ttotal: 11.3s\tremaining: 4.35s\n",
            "740:\ttest: 0.7522935\tbest: 0.7531377 (705)\ttotal: 11.6s\tremaining: 4.04s\n",
            "760:\ttest: 0.7524078\tbest: 0.7531377 (705)\ttotal: 11.9s\tremaining: 3.73s\n",
            "780:\ttest: 0.7524643\tbest: 0.7531377 (705)\ttotal: 12.3s\tremaining: 3.44s\n",
            "800:\ttest: 0.7526850\tbest: 0.7532956 (790)\ttotal: 12.7s\tremaining: 3.15s\n",
            "820:\ttest: 0.7536690\tbest: 0.7536690 (820)\ttotal: 13s\tremaining: 2.84s\n",
            "840:\ttest: 0.7529602\tbest: 0.7536690 (820)\ttotal: 13.3s\tremaining: 2.52s\n",
            "860:\ttest: 0.7529719\tbest: 0.7536690 (820)\ttotal: 13.7s\tremaining: 2.2s\n",
            "880:\ttest: 0.7527955\tbest: 0.7536690 (820)\ttotal: 14s\tremaining: 1.89s\n",
            "900:\ttest: 0.7523737\tbest: 0.7536690 (820)\ttotal: 14.3s\tremaining: 1.57s\n",
            "920:\ttest: 0.7524152\tbest: 0.7536690 (820)\ttotal: 14.6s\tremaining: 1.25s\n",
            "940:\ttest: 0.7522753\tbest: 0.7536690 (820)\ttotal: 14.9s\tremaining: 935ms\n",
            "960:\ttest: 0.7518366\tbest: 0.7536690 (820)\ttotal: 15.2s\tremaining: 617ms\n",
            "980:\ttest: 0.7534087\tbest: 0.7536690 (820)\ttotal: 15.5s\tremaining: 301ms\n",
            "999:\ttest: 0.7534327\tbest: 0.7536690 (820)\ttotal: 15.8s\tremaining: 0us\n",
            "bestTest = 0.7536689657\n",
            "bestIteration = 820\n",
            "Shrink model to first 821 iterations.\n"
          ]
        },
        {
          "output_type": "execute_result",
          "data": {
            "text/plain": [
              "<catboost.core.CatBoostRanker at 0x7ab2cfb9c820>"
            ]
          },
          "metadata": {},
          "execution_count": 79
        }
      ]
    },
    {
      "cell_type": "code",
      "source": [
        "queries_test_set = np.unique(queries_test)\n",
        "sns.distplot(cbr.predict(X_test[queries_test == queries_test_set[0]]));"
      ],
      "metadata": {
        "colab": {
          "base_uri": "https://localhost:8080/",
          "height": 695
        },
        "id": "ewq7myTDzlmS",
        "outputId": "cedb9132-f793-40fc-ddc5-628013721dd6"
      },
      "execution_count": 81,
      "outputs": [
        {
          "output_type": "execute_result",
          "data": {
            "text/plain": [
              "<Axes: ylabel='Density'>"
            ]
          },
          "metadata": {},
          "execution_count": 81
        },
        {
          "output_type": "display_data",
          "data": {
            "text/plain": [
              "<Figure size 800x800 with 1 Axes>"
            ],
            "image/png": "[encoded data removed]"
          },
          "metadata": {}
        }
      ]
    },
    {
      "cell_type": "code",
      "source": [
        "# ######################### making pairs with weight #########################\n",
        "# pairs = []\n",
        "# for group_id, docs_and_relevances in tqdm(train_groups_dict.items()):\n",
        "#   for (doci, reli), (docj, relj) in itertools.combinations(docs_and_relevances, 2):\n",
        "#     if reli > relj:\n",
        "#       pairs.append((doci, docj, reli - relj))\n",
        "#     else:\n",
        "#       pairs.append((docj, doci, relj - reli))\n",
        "# print(len(pairs))"
      ],
      "metadata": {
        "id": "AC0iSaQbxmjX"
      },
      "execution_count": 84,
      "outputs": []
    },
    {
      "cell_type": "code",
      "source": [
        "# train_pool = Pool(\n",
        "#     data=X_train,\n",
        "#     label=y_train / np.max(y_train),\n",
        "#     group_id=train_group_idxs,\n",
        "#     pairs=pairs\n",
        "# )\n",
        "\n",
        "# test_pool = Pool(\n",
        "#     data=X_test,\n",
        "#     label=y_test / np.max(y_test),\n",
        "#     group_id=queries_test,\n",
        "#     # pairs=pairs\n",
        "# )"
      ],
      "metadata": {
        "id": "-UMc6GzIHumf"
      },
      "execution_count": 85,
      "outputs": []
    },
    {
      "cell_type": "code",
      "execution_count": 86,
      "metadata": {
        "id": "UNydEOM25v3I"
      },
      "outputs": [],
      "source": [
        "# cbr = CatBoostRanker(\n",
        "#     iterations=1000,\n",
        "#     learning_rate=0.05,\n",
        "#     # loss_function='PairLogitPairwise',\n",
        "#     loss_function='YetiRankPairwise',\n",
        "#     eval_metric='NDCG',\n",
        "#     verbose=20,\n",
        "#     task_type='GPU',\n",
        "# )\n",
        "# cbr.fit(train_pool, eval_set=test_pool, plot=True)"
      ]
    },
    {
      "cell_type": "code",
      "source": [],
      "metadata": {
        "id": "jllE28k8xBhR"
      },
      "execution_count": null,
      "outputs": []
    }
  ],
  "metadata": {
    "accelerator": "GPU",
    "colab": {
      "provenance": [],
      "machine_shape": "hm",
      "gpuType": "V100"
    },
    "kernelspec": {
      "display_name": "Python 3",
      "name": "python3"
    },
    "language_info": {
      "codemirror_mode": {
        "name": "ipython",
        "version": 3
      },
      "file_extension": ".py",
      "mimetype": "text/x-python",
      "name": "python",
      "nbconvert_exporter": "python",
      "pygments_lexer": "ipython3",
      "version": "3.7.15"
    },
    "toc": {
      "base_numbering": 1,
      "nav_menu": {},
      "number_sections": true,
      "sideBar": true,
      "skip_h1_title": false,
      "title_cell": "Table of Contents",
      "title_sidebar": "Contents",
      "toc_cell": false,
      "toc_position": {},
      "toc_section_display": true,
      "toc_window_display": false
    },
    "widgets": {
      "application/vnd.jupyter.widget-state+json": {
        "632ba2f51c8b40e0bce56f15567a354b": {
          "model_module": "@jupyter-widgets/controls",
          "model_name": "HBoxModel",
          "model_module_version": "1.5.0",
          "state": {
            "_dom_classes": [],
            "_model_module": "@jupyter-widgets/controls",
            "_model_module_version": "1.5.0",
            "_model_name": "HBoxModel",
            "_view_count": null,
            "_view_module": "@jupyter-widgets/controls",
            "_view_module_version": "1.5.0",
            "_view_name": "HBoxView",
            "box_style": "",
            "children": [
              "IPY_MODEL_6a8f1e1937604dd4a082a9dac5be4e9d",
              "IPY_MODEL_9e6ced2d187243d6a5d39c7da02a3c23",
              "IPY_MODEL_bc73607693f74cbba9b50ce71fc4a70e"
            ],
            "layout": "IPY_MODEL_c427b9952dcf4593bd286cb679186e89"
          }
        },
        "6a8f1e1937604dd4a082a9dac5be4e9d": {
          "model_module": "@jupyter-widgets/controls",
          "model_name": "HTMLModel",
          "model_module_version": "1.5.0",
          "state": {
            "_dom_classes": [],
            "_model_module": "@jupyter-widgets/controls",
            "_model_module_version": "1.5.0",
            "_model_name": "HTMLModel",
            "_view_count": null,
            "_view_module": "@jupyter-widgets/controls",
            "_view_module_version": "1.5.0",
            "_view_name": "HTMLView",
            "description": "",
            "description_tooltip": null,
            "layout": "IPY_MODEL_50ae290685ca4116ab0ee9c6d0091b13",
            "placeholder": "​",
            "style": "IPY_MODEL_ee24155e0b9b45eebceac2c5549a68bf",
            "value": "100%"
          }
        },
        "9e6ced2d187243d6a5d39c7da02a3c23": {
          "model_module": "@jupyter-widgets/controls",
          "model_name": "FloatProgressModel",
          "model_module_version": "1.5.0",
          "state": {
            "_dom_classes": [],
            "_model_module": "@jupyter-widgets/controls",
            "_model_module_version": "1.5.0",
            "_model_name": "FloatProgressModel",
            "_view_count": null,
            "_view_module": "@jupyter-widgets/controls",
            "_view_module_version": "1.5.0",
            "_view_name": "ProgressView",
            "bar_style": "success",
            "description": "",
            "description_tooltip": null,
            "layout": "IPY_MODEL_8335313760934ad3b7e75ba64ff5b764",
            "max": 87,
            "min": 0,
            "orientation": "horizontal",
            "style": "IPY_MODEL_9507b3410e17420e94b2129c38a4cf20",
            "value": 87
          }
        },
        "bc73607693f74cbba9b50ce71fc4a70e": {
          "model_module": "@jupyter-widgets/controls",
          "model_name": "HTMLModel",
          "model_module_version": "1.5.0",
          "state": {
            "_dom_classes": [],
            "_model_module": "@jupyter-widgets/controls",
            "_model_module_version": "1.5.0",
            "_model_name": "HTMLModel",
            "_view_count": null,
            "_view_module": "@jupyter-widgets/controls",
            "_view_module_version": "1.5.0",
            "_view_name": "HTMLView",
            "description": "",
            "description_tooltip": null,
            "layout": "IPY_MODEL_862b5a2e58bf48e1b00960b88866aad3",
            "placeholder": "​",
            "style": "IPY_MODEL_901a0082d63441b195073c3bd158bfb7",
            "value": " 87/87 [00:00&lt;00:00, 1970.61it/s]"
          }
        },
        "c427b9952dcf4593bd286cb679186e89": {
          "model_module": "@jupyter-widgets/base",
          "model_name": "LayoutModel",
          "model_module_version": "1.2.0",
          "state": {
            "_model_module": "@jupyter-widgets/base",
            "_model_module_version": "1.2.0",
            "_model_name": "LayoutModel",
            "_view_count": null,
            "_view_module": "@jupyter-widgets/base",
            "_view_module_version": "1.2.0",
            "_view_name": "LayoutView",
            "align_content": null,
            "align_items": null,
            "align_self": null,
            "border": null,
            "bottom": null,
            "display": null,
            "flex": null,
            "flex_flow": null,
            "grid_area": null,
            "grid_auto_columns": null,
            "grid_auto_flow": null,
            "grid_auto_rows": null,
            "grid_column": null,
            "grid_gap": null,
            "grid_row": null,
            "grid_template_areas": null,
            "grid_template_columns": null,
            "grid_template_rows": null,
            "height": null,
            "justify_content": null,
            "justify_items": null,
            "left": null,
            "margin": null,
            "max_height": null,
            "max_width": null,
            "min_height": null,
            "min_width": null,
            "object_fit": null,
            "object_position": null,
            "order": null,
            "overflow": null,
            "overflow_x": null,
            "overflow_y": null,
            "padding": null,
            "right": null,
            "top": null,
            "visibility": null,
            "width": null
          }
        },
        "50ae290685ca4116ab0ee9c6d0091b13": {
          "model_module": "@jupyter-widgets/base",
          "model_name": "LayoutModel",
          "model_module_version": "1.2.0",
          "state": {
            "_model_module": "@jupyter-widgets/base",
            "_model_module_version": "1.2.0",
            "_model_name": "LayoutModel",
            "_view_count": null,
            "_view_module": "@jupyter-widgets/base",
            "_view_module_version": "1.2.0",
            "_view_name": "LayoutView",
            "align_content": null,
            "align_items": null,
            "align_self": null,
            "border": null,
            "bottom": null,
            "display": null,
            "flex": null,
            "flex_flow": null,
            "grid_area": null,
            "grid_auto_columns": null,
            "grid_auto_flow": null,
            "grid_auto_rows": null,
            "grid_column": null,
            "grid_gap": null,
            "grid_row": null,
            "grid_template_areas": null,
            "grid_template_columns": null,
            "grid_template_rows": null,
            "height": null,
            "justify_content": null,
            "justify_items": null,
            "left": null,
            "margin": null,
            "max_height": null,
            "max_width": null,
            "min_height": null,
            "min_width": null,
            "object_fit": null,
            "object_position": null,
            "order": null,
            "overflow": null,
            "overflow_x": null,
            "overflow_y": null,
            "padding": null,
            "right": null,
            "top": null,
            "visibility": null,
            "width": null
          }
        },
        "ee24155e0b9b45eebceac2c5549a68bf": {
          "model_module": "@jupyter-widgets/controls",
          "model_name": "DescriptionStyleModel",
          "model_module_version": "1.5.0",
          "state": {
            "_model_module": "@jupyter-widgets/controls",
            "_model_module_version": "1.5.0",
            "_model_name": "DescriptionStyleModel",
            "_view_count": null,
            "_view_module": "@jupyter-widgets/base",
            "_view_module_version": "1.2.0",
            "_view_name": "StyleView",
            "description_width": ""
          }
        },
        "8335313760934ad3b7e75ba64ff5b764": {
          "model_module": "@jupyter-widgets/base",
          "model_name": "LayoutModel",
          "model_module_version": "1.2.0",
          "state": {
            "_model_module": "@jupyter-widgets/base",
            "_model_module_version": "1.2.0",
            "_model_name": "LayoutModel",
            "_view_count": null,
            "_view_module": "@jupyter-widgets/base",
            "_view_module_version": "1.2.0",
            "_view_name": "LayoutView",
            "align_content": null,
            "align_items": null,
            "align_self": null,
            "border": null,
            "bottom": null,
            "display": null,
            "flex": null,
            "flex_flow": null,
            "grid_area": null,
            "grid_auto_columns": null,
            "grid_auto_flow": null,
            "grid_auto_rows": null,
            "grid_column": null,
            "grid_gap": null,
            "grid_row": null,
            "grid_template_areas": null,
            "grid_template_columns": null,
            "grid_template_rows": null,
            "height": null,
            "justify_content": null,
            "justify_items": null,
            "left": null,
            "margin": null,
            "max_height": null,
            "max_width": null,
            "min_height": null,
            "min_width": null,
            "object_fit": null,
            "object_position": null,
            "order": null,
            "overflow": null,
            "overflow_x": null,
            "overflow_y": null,
            "padding": null,
            "right": null,
            "top": null,
            "visibility": null,
            "width": null
          }
        },
        "9507b3410e17420e94b2129c38a4cf20": {
          "model_module": "@jupyter-widgets/controls",
          "model_name": "ProgressStyleModel",
          "model_module_version": "1.5.0",
          "state": {
            "_model_module": "@jupyter-widgets/controls",
            "_model_module_version": "1.5.0",
            "_model_name": "ProgressStyleModel",
            "_view_count": null,
            "_view_module": "@jupyter-widgets/base",
            "_view_module_version": "1.2.0",
            "_view_name": "StyleView",
            "bar_color": null,
            "description_width": ""
          }
        },
        "862b5a2e58bf48e1b00960b88866aad3": {
          "model_module": "@jupyter-widgets/base",
          "model_name": "LayoutModel",
          "model_module_version": "1.2.0",
          "state": {
            "_model_module": "@jupyter-widgets/base",
            "_model_module_version": "1.2.0",
            "_model_name": "LayoutModel",
            "_view_count": null,
            "_view_module": "@jupyter-widgets/base",
            "_view_module_version": "1.2.0",
            "_view_name": "LayoutView",
            "align_content": null,
            "align_items": null,
            "align_self": null,
            "border": null,
            "bottom": null,
            "display": null,
            "flex": null,
            "flex_flow": null,
            "grid_area": null,
            "grid_auto_columns": null,
            "grid_auto_flow": null,
            "grid_auto_rows": null,
            "grid_column": null,
            "grid_gap": null,
            "grid_row": null,
            "grid_template_areas": null,
            "grid_template_columns": null,
            "grid_template_rows": null,
            "height": null,
            "justify_content": null,
            "justify_items": null,
            "left": null,
            "margin": null,
            "max_height": null,
            "max_width": null,
            "min_height": null,
            "min_width": null,
            "object_fit": null,
            "object_position": null,
            "order": null,
            "overflow": null,
            "overflow_x": null,
            "overflow_y": null,
            "padding": null,
            "right": null,
            "top": null,
            "visibility": null,
            "width": null
          }
        },
        "901a0082d63441b195073c3bd158bfb7": {
          "model_module": "@jupyter-widgets/controls",
          "model_name": "DescriptionStyleModel",
          "model_module_version": "1.5.0",
          "state": {
            "_model_module": "@jupyter-widgets/controls",
            "_model_module_version": "1.5.0",
            "_model_name": "DescriptionStyleModel",
            "_view_count": null,
            "_view_module": "@jupyter-widgets/base",
            "_view_module_version": "1.2.0",
            "_view_name": "StyleView",
            "description_width": ""
          }
        },
        "f37503c7be224b99bbbf16bd32e4d8e1": {
          "model_module": "@jupyter-widgets/controls",
          "model_name": "HBoxModel",
          "model_module_version": "1.5.0",
          "state": {
            "_dom_classes": [],
            "_model_module": "@jupyter-widgets/controls",
            "_model_module_version": "1.5.0",
            "_model_name": "HBoxModel",
            "_view_count": null,
            "_view_module": "@jupyter-widgets/controls",
            "_view_module_version": "1.5.0",
            "_view_name": "HBoxView",
            "box_style": "",
            "children": [
              "IPY_MODEL_aaef550555f34007ae416cecc87f25e4",
              "IPY_MODEL_a7ac1d3576444c759eac1f00ee33dffe",
              "IPY_MODEL_87e042078a3347278999a7b1f6cd8c71"
            ],
            "layout": "IPY_MODEL_64cab301918a47bc988c310826a55f91"
          }
        },
        "aaef550555f34007ae416cecc87f25e4": {
          "model_module": "@jupyter-widgets/controls",
          "model_name": "HTMLModel",
          "model_module_version": "1.5.0",
          "state": {
            "_dom_classes": [],
            "_model_module": "@jupyter-widgets/controls",
            "_model_module_version": "1.5.0",
            "_model_name": "HTMLModel",
            "_view_count": null,
            "_view_module": "@jupyter-widgets/controls",
            "_view_module_version": "1.5.0",
            "_view_name": "HTMLView",
            "description": "",
            "description_tooltip": null,
            "layout": "IPY_MODEL_0791711b80244aca86cccd2155299359",
            "placeholder": "​",
            "style": "IPY_MODEL_fa455d22c4464a87b7d5203209e28103",
            "value": "100%"
          }
        },
        "a7ac1d3576444c759eac1f00ee33dffe": {
          "model_module": "@jupyter-widgets/controls",
          "model_name": "FloatProgressModel",
          "model_module_version": "1.5.0",
          "state": {
            "_dom_classes": [],
            "_model_module": "@jupyter-widgets/controls",
            "_model_module_version": "1.5.0",
            "_model_name": "FloatProgressModel",
            "_view_count": null,
            "_view_module": "@jupyter-widgets/controls",
            "_view_module_version": "1.5.0",
            "_view_name": "ProgressView",
            "bar_style": "success",
            "description": "",
            "description_tooltip": null,
            "layout": "IPY_MODEL_f560705ef900447b8e525013d4aafdbc",
            "max": 87,
            "min": 0,
            "orientation": "horizontal",
            "style": "IPY_MODEL_875283f86f3f499d87af8b2fff26c297",
            "value": 87
          }
        },
        "87e042078a3347278999a7b1f6cd8c71": {
          "model_module": "@jupyter-widgets/controls",
          "model_name": "HTMLModel",
          "model_module_version": "1.5.0",
          "state": {
            "_dom_classes": [],
            "_model_module": "@jupyter-widgets/controls",
            "_model_module_version": "1.5.0",
            "_model_name": "HTMLModel",
            "_view_count": null,
            "_view_module": "@jupyter-widgets/controls",
            "_view_module_version": "1.5.0",
            "_view_name": "HTMLView",
            "description": "",
            "description_tooltip": null,
            "layout": "IPY_MODEL_b804761e9be944bcab53fdbba16dc71a",
            "placeholder": "​",
            "style": "IPY_MODEL_bcd96a931f1c4b7790d65598de5d5961",
            "value": " 87/87 [00:00&lt;00:00, 195.21it/s]"
          }
        },
        "64cab301918a47bc988c310826a55f91": {
          "model_module": "@jupyter-widgets/base",
          "model_name": "LayoutModel",
          "model_module_version": "1.2.0",
          "state": {
            "_model_module": "@jupyter-widgets/base",
            "_model_module_version": "1.2.0",
            "_model_name": "LayoutModel",
            "_view_count": null,
            "_view_module": "@jupyter-widgets/base",
            "_view_module_version": "1.2.0",
            "_view_name": "LayoutView",
            "align_content": null,
            "align_items": null,
            "align_self": null,
            "border": null,
            "bottom": null,
            "display": null,
            "flex": null,
            "flex_flow": null,
            "grid_area": null,
            "grid_auto_columns": null,
            "grid_auto_flow": null,
            "grid_auto_rows": null,
            "grid_column": null,
            "grid_gap": null,
            "grid_row": null,
            "grid_template_areas": null,
            "grid_template_columns": null,
            "grid_template_rows": null,
            "height": null,
            "justify_content": null,
            "justify_items": null,
            "left": null,
            "margin": null,
            "max_height": null,
            "max_width": null,
            "min_height": null,
            "min_width": null,
            "object_fit": null,
            "object_position": null,
            "order": null,
            "overflow": null,
            "overflow_x": null,
            "overflow_y": null,
            "padding": null,
            "right": null,
            "top": null,
            "visibility": null,
            "width": null
          }
        },
        "0791711b80244aca86cccd2155299359": {
          "model_module": "@jupyter-widgets/base",
          "model_name": "LayoutModel",
          "model_module_version": "1.2.0",
          "state": {
            "_model_module": "@jupyter-widgets/base",
            "_model_module_version": "1.2.0",
            "_model_name": "LayoutModel",
            "_view_count": null,
            "_view_module": "@jupyter-widgets/base",
            "_view_module_version": "1.2.0",
            "_view_name": "LayoutView",
            "align_content": null,
            "align_items": null,
            "align_self": null,
            "border": null,
            "bottom": null,
            "display": null,
            "flex": null,
            "flex_flow": null,
            "grid_area": null,
            "grid_auto_columns": null,
            "grid_auto_flow": null,
            "grid_auto_rows": null,
            "grid_column": null,
            "grid_gap": null,
            "grid_row": null,
            "grid_template_areas": null,
            "grid_template_columns": null,
            "grid_template_rows": null,
            "height": null,
            "justify_content": null,
            "justify_items": null,
            "left": null,
            "margin": null,
            "max_height": null,
            "max_width": null,
            "min_height": null,
            "min_width": null,
            "object_fit": null,
            "object_position": null,
            "order": null,
            "overflow": null,
            "overflow_x": null,
            "overflow_y": null,
            "padding": null,
            "right": null,
            "top": null,
            "visibility": null,
            "width": null
          }
        },
        "fa455d22c4464a87b7d5203209e28103": {
          "model_module": "@jupyter-widgets/controls",
          "model_name": "DescriptionStyleModel",
          "model_module_version": "1.5.0",
          "state": {
            "_model_module": "@jupyter-widgets/controls",
            "_model_module_version": "1.5.0",
            "_model_name": "DescriptionStyleModel",
            "_view_count": null,
            "_view_module": "@jupyter-widgets/base",
            "_view_module_version": "1.2.0",
            "_view_name": "StyleView",
            "description_width": ""
          }
        },
        "f560705ef900447b8e525013d4aafdbc": {
          "model_module": "@jupyter-widgets/base",
          "model_name": "LayoutModel",
          "model_module_version": "1.2.0",
          "state": {
            "_model_module": "@jupyter-widgets/base",
            "_model_module_version": "1.2.0",
            "_model_name": "LayoutModel",
            "_view_count": null,
            "_view_module": "@jupyter-widgets/base",
            "_view_module_version": "1.2.0",
            "_view_name": "LayoutView",
            "align_content": null,
            "align_items": null,
            "align_self": null,
            "border": null,
            "bottom": null,
            "display": null,
            "flex": null,
            "flex_flow": null,
            "grid_area": null,
            "grid_auto_columns": null,
            "grid_auto_flow": null,
            "grid_auto_rows": null,
            "grid_column": null,
            "grid_gap": null,
            "grid_row": null,
            "grid_template_areas": null,
            "grid_template_columns": null,
            "grid_template_rows": null,
            "height": null,
            "justify_content": null,
            "justify_items": null,
            "left": null,
            "margin": null,
            "max_height": null,
            "max_width": null,
            "min_height": null,
            "min_width": null,
            "object_fit": null,
            "object_position": null,
            "order": null,
            "overflow": null,
            "overflow_x": null,
            "overflow_y": null,
            "padding": null,
            "right": null,
            "top": null,
            "visibility": null,
            "width": null
          }
        },
        "875283f86f3f499d87af8b2fff26c297": {
          "model_module": "@jupyter-widgets/controls",
          "model_name": "ProgressStyleModel",
          "model_module_version": "1.5.0",
          "state": {
            "_model_module": "@jupyter-widgets/controls",
            "_model_module_version": "1.5.0",
            "_model_name": "ProgressStyleModel",
            "_view_count": null,
            "_view_module": "@jupyter-widgets/base",
            "_view_module_version": "1.2.0",
            "_view_name": "StyleView",
            "bar_color": null,
            "description_width": ""
          }
        },
        "b804761e9be944bcab53fdbba16dc71a": {
          "model_module": "@jupyter-widgets/base",
          "model_name": "LayoutModel",
          "model_module_version": "1.2.0",
          "state": {
            "_model_module": "@jupyter-widgets/base",
            "_model_module_version": "1.2.0",
            "_model_name": "LayoutModel",
            "_view_count": null,
            "_view_module": "@jupyter-widgets/base",
            "_view_module_version": "1.2.0",
            "_view_name": "LayoutView",
            "align_content": null,
            "align_items": null,
            "align_self": null,
            "border": null,
            "bottom": null,
            "display": null,
            "flex": null,
            "flex_flow": null,
            "grid_area": null,
            "grid_auto_columns": null,
            "grid_auto_flow": null,
            "grid_auto_rows": null,
            "grid_column": null,
            "grid_gap": null,
            "grid_row": null,
            "grid_template_areas": null,
            "grid_template_columns": null,
            "grid_template_rows": null,
            "height": null,
            "justify_content": null,
            "justify_items": null,
            "left": null,
            "margin": null,
            "max_height": null,
            "max_width": null,
            "min_height": null,
            "min_width": null,
            "object_fit": null,
            "object_position": null,
            "order": null,
            "overflow": null,
            "overflow_x": null,
            "overflow_y": null,
            "padding": null,
            "right": null,
            "top": null,
            "visibility": null,
            "width": null
          }
        },
        "bcd96a931f1c4b7790d65598de5d5961": {
          "model_module": "@jupyter-widgets/controls",
          "model_name": "DescriptionStyleModel",
          "model_module_version": "1.5.0",
          "state": {
            "_model_module": "@jupyter-widgets/controls",
            "_model_module_version": "1.5.0",
            "_model_name": "DescriptionStyleModel",
            "_view_count": null,
            "_view_module": "@jupyter-widgets/base",
            "_view_module_version": "1.2.0",
            "_view_name": "StyleView",
            "description_width": ""
          }
        },
        "a80b987400d045a0b00f7f2d2c3c90f0": {
          "model_module": "catboost-widget",
          "model_name": "CatboostWidgetModel",
          "model_module_version": "^1.0.0",
          "state": {
            "_dom_classes": [],
            "_model_module": "catboost-widget",
            "_model_module_version": "^1.0.0",
            "_model_name": "CatboostWidgetModel",
            "_view_count": null,
            "_view_module": "catboost-widget",
            "_view_module_version": "^1.0.0",
            "_view_name": "CatboostWidgetView",
            "data": {
              "catboost_info": {
                "path": "catboost_info",
                "name": "catboost_info",
                "content": {
                  "passed_iterations": 999,
                  "total_iterations": 1000,
                  "data": {
                    "iterations": [
                      {
                        "iteration": 0,
                        "passed_time": 0.01832162227,
                        "remaining_time": 18.30330064,
                        "test": [
                          0.6471616468,
                          0.4914291412
                        ]
                      },
                      {
                        "iteration": 5,
                        "passed_time": 0.09910610268,
                        "remaining_time": 16.41857768,
                        "test": [
                          0.7216023818,
                          0.6550581843
                        ]
                      },
                      {
                        "iteration": 10,
                        "passed_time": 0.1821227734,
                        "remaining_time": 16.37449299,
                        "test": [
                          0.7228192258,
                          0.6561371276
                        ]
                      },
                      {
                        "iteration": 15,
                        "passed_time": 0.2604854078,
                        "remaining_time": 16.01985258,
                        "test": [
                          0.7217098931,
                          0.65003544
                        ]
                      },
                      {
                        "iteration": 20,
                        "passed_time": 0.33746959,
                        "remaining_time": 15.73251089,
                        "test": [
                          0.7302277218,
                          0.6660996617
                        ]
                      },
                      {
                        "iteration": 25,
                        "passed_time": 0.4126655464,
                        "remaining_time": 15.45908624,
                        "test": [
                          0.7299432762,
                          0.6666726258
                        ]
                      },
                      {
                        "iteration": 30,
                        "passed_time": 0.4903025873,
                        "remaining_time": 15.32590991,
                        "test": [
                          0.73059657,
                          0.6706592794
                        ]
                      },
                      {
                        "iteration": 35,
                        "passed_time": 0.570969777,
                        "remaining_time": 15.28930181,
                        "test": [
                          0.7314235792,
                          0.6694728146
                        ]
                      },
                      {
                        "iteration": 40,
                        "passed_time": 0.6469898613,
                        "remaining_time": 15.13325066,
                        "test": [
                          0.7313226977,
                          0.668852466
                        ]
                      },
                      {
                        "iteration": 45,
                        "passed_time": 0.726376705,
                        "remaining_time": 15.06442123,
                        "test": [
                          0.7341292244,
                          0.6731402434
                        ]
                      },
                      {
                        "iteration": 50,
                        "passed_time": 0.8028293711,
                        "remaining_time": 14.938923,
                        "test": [
                          0.7351465963,
                          0.677159087
                        ]
                      },
                      {
                        "iteration": 55,
                        "passed_time": 0.8794852095,
                        "remaining_time": 14.82560782,
                        "test": [
                          0.7347642688,
                          0.6769498037
                        ]
                      },
                      {
                        "iteration": 60,
                        "passed_time": 0.9567623004,
                        "remaining_time": 14.72786558,
                        "test": [
                          0.7368254663,
                          0.681864329
                        ]
                      },
                      {
                        "iteration": 65,
                        "passed_time": 1.035741078,
                        "remaining_time": 14.65730555,
                        "test": [
                          0.7357886057,
                          0.6815675078
                        ]
                      },
                      {
                        "iteration": 70,
                        "passed_time": 1.114075562,
                        "remaining_time": 14.57712953,
                        "test": [
                          0.7343870786,
                          0.6795140331
                        ]
                      },
                      {
                        "iteration": 75,
                        "passed_time": 1.190823277,
                        "remaining_time": 14.47790405,
                        "test": [
                          0.7345935452,
                          0.6800375685
                        ]
                      },
                      {
                        "iteration": 80,
                        "passed_time": 1.266516538,
                        "remaining_time": 14.36949011,
                        "test": [
                          0.7343360223,
                          0.6796289115
                        ]
                      },
                      {
                        "iteration": 85,
                        "passed_time": 1.343108624,
                        "remaining_time": 14.27443352,
                        "test": [
                          0.7352177126,
                          0.682286569
                        ]
                      },
                      {
                        "iteration": 90,
                        "passed_time": 1.419208866,
                        "remaining_time": 14.17649296,
                        "test": [
                          0.7353683869,
                          0.6842377577
                        ]
                      },
                      {
                        "iteration": 95,
                        "passed_time": 1.496746752,
                        "remaining_time": 14.09436525,
                        "test": [
                          0.738807888,
                          0.6880732726
                        ]
                      },
                      {
                        "iteration": 100,
                        "passed_time": 1.577031573,
                        "remaining_time": 14.03714242,
                        "test": [
                          0.7386716382,
                          0.6881100104
                        ]
                      },
                      {
                        "iteration": 105,
                        "passed_time": 1.65613877,
                        "remaining_time": 13.96781189,
                        "test": [
                          0.7391866987,
                          0.6903890355
                        ]
                      },
                      {
                        "iteration": 110,
                        "passed_time": 1.735714942,
                        "remaining_time": 13.90135661,
                        "test": [
                          0.7389352219,
                          0.6899147739
                        ]
                      },
                      {
                        "iteration": 115,
                        "passed_time": 1.813856592,
                        "remaining_time": 13.82283817,
                        "test": [
                          0.7382211766,
                          0.6880884694
                        ]
                      },
                      {
                        "iteration": 120,
                        "passed_time": 1.891339988,
                        "remaining_time": 13.739569,
                        "test": [
                          0.7387429017,
                          0.6888540607
                        ]
                      },
                      {
                        "iteration": 125,
                        "passed_time": 1.968536117,
                        "remaining_time": 13.6547664,
                        "test": [
                          0.7401943286,
                          0.6920023872
                        ]
                      },
                      {
                        "iteration": 130,
                        "passed_time": 2.04558914,
                        "remaining_time": 13.56959513,
                        "test": [
                          0.7397527989,
                          0.6907619445
                        ]
                      },
                      {
                        "iteration": 135,
                        "passed_time": 2.125186102,
                        "remaining_time": 13.5011823,
                        "test": [
                          0.743124736,
                          0.695410311
                        ]
                      },
                      {
                        "iteration": 140,
                        "passed_time": 2.202001643,
                        "remaining_time": 13.41503129,
                        "test": [
                          0.7416369863,
                          0.6943297798
                        ]
                      },
                      {
                        "iteration": 145,
                        "passed_time": 2.278133221,
                        "remaining_time": 13.32551898,
                        "test": [
                          0.7417100417,
                          0.6948632094
                        ]
                      },
                      {
                        "iteration": 150,
                        "passed_time": 2.357963082,
                        "remaining_time": 13.25768647,
                        "test": [
                          0.741314796,
                          0.6918482681
                        ]
                      },
                      {
                        "iteration": 155,
                        "passed_time": 2.43890463,
                        "remaining_time": 13.19509941,
                        "test": [
                          0.7435499249,
                          0.6962493776
                        ]
                      },
                      {
                        "iteration": 160,
                        "passed_time": 2.516373244,
                        "remaining_time": 13.11327424,
                        "test": [
                          0.7434250863,
                          0.6961433754
                        ]
                      },
                      {
                        "iteration": 165,
                        "passed_time": 2.594200071,
                        "remaining_time": 13.0335112,
                        "test": [
                          0.7433233352,
                          0.6954906742
                        ]
                      },
                      {
                        "iteration": 170,
                        "passed_time": 2.673778886,
                        "remaining_time": 12.96235495,
                        "test": [
                          0.7432203743,
                          0.6945309551
                        ]
                      },
                      {
                        "iteration": 175,
                        "passed_time": 2.753532163,
                        "remaining_time": 12.89153695,
                        "test": [
                          0.7437211146,
                          0.6955199277
                        ]
                      },
                      {
                        "iteration": 180,
                        "passed_time": 2.832373483,
                        "remaining_time": 12.8160988,
                        "test": [
                          0.7427356858,
                          0.6936939514
                        ]
                      },
                      {
                        "iteration": 185,
                        "passed_time": 2.913746456,
                        "remaining_time": 12.75155707,
                        "test": [
                          0.7437339448,
                          0.6962589315
                        ]
                      },
                      {
                        "iteration": 190,
                        "passed_time": 2.988597492,
                        "remaining_time": 12.6585098,
                        "test": [
                          0.7421131786,
                          0.6928247195
                        ]
                      },
                      {
                        "iteration": 195,
                        "passed_time": 3.067387373,
                        "remaining_time": 12.5825482,
                        "test": [
                          0.7418627781,
                          0.6912281106
                        ]
                      },
                      {
                        "iteration": 200,
                        "passed_time": 3.14749136,
                        "remaining_time": 12.51166964,
                        "test": [
                          0.7431648447,
                          0.6937338144
                        ]
                      },
                      {
                        "iteration": 205,
                        "passed_time": 3.229542309,
                        "remaining_time": 12.44784754,
                        "test": [
                          0.7428620119,
                          0.692917306
                        ]
                      },
                      {
                        "iteration": 210,
                        "passed_time": 3.306477251,
                        "remaining_time": 12.36403105,
                        "test": [
                          0.7431537105,
                          0.6935092916
                        ]
                      },
                      {
                        "iteration": 215,
                        "passed_time": 3.381574227,
                        "remaining_time": 12.27386201,
                        "test": [
                          0.7435387707,
                          0.6947507193
                        ]
                      },
                      {
                        "iteration": 220,
                        "passed_time": 3.457112482,
                        "remaining_time": 12.18593042,
                        "test": [
                          0.7437605337,
                          0.6945283722
                        ]
                      },
                      {
                        "iteration": 225,
                        "passed_time": 3.531640678,
                        "remaining_time": 12.09508799,
                        "test": [
                          0.7440183022,
                          0.6957044649
                        ]
                      },
                      {
                        "iteration": 230,
                        "passed_time": 3.608211783,
                        "remaining_time": 12.01175264,
                        "test": [
                          0.7438700637,
                          0.6955486362
                        ]
                      },
                      {
                        "iteration": 235,
                        "passed_time": 3.681632189,
                        "remaining_time": 11.91850421,
                        "test": [
                          0.7440106658,
                          0.6956177932
                        ]
                      },
                      {
                        "iteration": 240,
                        "passed_time": 3.75915323,
                        "remaining_time": 11.83899295,
                        "test": [
                          0.7440272008,
                          0.6953061982
                        ]
                      },
                      {
                        "iteration": 245,
                        "passed_time": 3.835745238,
                        "remaining_time": 11.75671508,
                        "test": [
                          0.7437983555,
                          0.6944340602
                        ]
                      },
                      {
                        "iteration": 250,
                        "passed_time": 3.911943426,
                        "remaining_time": 11.67348855,
                        "test": [
                          0.744814741,
                          0.6971988285
                        ]
                      },
                      {
                        "iteration": 255,
                        "passed_time": 3.985627645,
                        "remaining_time": 11.58323034,
                        "test": [
                          0.7444297586,
                          0.6965350544
                        ]
                      },
                      {
                        "iteration": 260,
                        "passed_time": 4.058505959,
                        "remaining_time": 11.4913253,
                        "test": [
                          0.7448078201,
                          0.6962964309
                        ]
                      },
                      {
                        "iteration": 265,
                        "passed_time": 4.131975309,
                        "remaining_time": 11.40176645,
                        "test": [
                          0.7446373216,
                          0.6962421116
                        ]
                      },
                      {
                        "iteration": 270,
                        "passed_time": 4.206660848,
                        "remaining_time": 11.31607291,
                        "test": [
                          0.7450665975,
                          0.6968922083
                        ]
                      },
                      {
                        "iteration": 275,
                        "passed_time": 4.283254131,
                        "remaining_time": 11.23578258,
                        "test": [
                          0.7447114118,
                          0.6968429932
                        ]
                      },
                      {
                        "iteration": 280,
                        "passed_time": 4.363169346,
                        "remaining_time": 11.1641237,
                        "test": [
                          0.745814668,
                          0.6983770166
                        ]
                      },
                      {
                        "iteration": 285,
                        "passed_time": 4.436653512,
                        "remaining_time": 11.07612101,
                        "test": [
                          0.7457488689,
                          0.6985068138
                        ]
                      },
                      {
                        "iteration": 290,
                        "passed_time": 4.511185226,
                        "remaining_time": 10.9911695,
                        "test": [
                          0.7460930085,
                          0.6990308328
                        ]
                      },
                      {
                        "iteration": 295,
                        "passed_time": 4.585221317,
                        "remaining_time": 10.90539124,
                        "test": [
                          0.7467001392,
                          0.7003130864
                        ]
                      },
                      {
                        "iteration": 300,
                        "passed_time": 4.659115469,
                        "remaining_time": 10.81967347,
                        "test": [
                          0.7465015095,
                          0.7000012501
                        ]
                      },
                      {
                        "iteration": 305,
                        "passed_time": 4.733109836,
                        "remaining_time": 10.73456937,
                        "test": [
                          0.7462228266,
                          0.6989072995
                        ]
                      },
                      {
                        "iteration": 310,
                        "passed_time": 4.808210621,
                        "remaining_time": 10.65227369,
                        "test": [
                          0.7456149816,
                          0.6969818629
                        ]
                      },
                      {
                        "iteration": 315,
                        "passed_time": 4.884025004,
                        "remaining_time": 10.57175032,
                        "test": [
                          0.7465563716,
                          0.6997329289
                        ]
                      },
                      {
                        "iteration": 320,
                        "passed_time": 4.959046776,
                        "remaining_time": 10.48969707,
                        "test": [
                          0.7464363357,
                          0.7000084685
                        ]
                      },
                      {
                        "iteration": 325,
                        "passed_time": 5.0365773,
                        "remaining_time": 10.41304632,
                        "test": [
                          0.7453691848,
                          0.6976453047
                        ]
                      },
                      {
                        "iteration": 330,
                        "passed_time": 5.116905027,
                        "remaining_time": 10.34202255,
                        "test": [
                          0.7460350861,
                          0.699101271
                        ]
                      },
                      {
                        "iteration": 335,
                        "passed_time": 5.195262833,
                        "remaining_time": 10.26682893,
                        "test": [
                          0.7452412571,
                          0.696913751
                        ]
                      },
                      {
                        "iteration": 340,
                        "passed_time": 5.271421273,
                        "remaining_time": 10.18729214,
                        "test": [
                          0.7453306429,
                          0.69719376
                        ]
                      },
                      {
                        "iteration": 345,
                        "passed_time": 5.345897081,
                        "remaining_time": 10.10467252,
                        "test": [
                          0.7450646872,
                          0.6963062046
                        ]
                      },
                      {
                        "iteration": 350,
                        "passed_time": 5.420446633,
                        "remaining_time": 10.02242127,
                        "test": [
                          0.7459518359,
                          0.6981965822
                        ]
                      },
                      {
                        "iteration": 355,
                        "passed_time": 5.495042268,
                        "remaining_time": 9.94046972,
                        "test": [
                          0.7459913784,
                          0.6986730581
                        ]
                      },
                      {
                        "iteration": 360,
                        "passed_time": 5.569526757,
                        "remaining_time": 9.858525202,
                        "test": [
                          0.7461657127,
                          0.6990021249
                        ]
                      },
                      {
                        "iteration": 365,
                        "passed_time": 5.643692112,
                        "remaining_time": 9.776231692,
                        "test": [
                          0.7460538565,
                          0.6985781798
                        ]
                      },
                      {
                        "iteration": 370,
                        "passed_time": 5.717882386,
                        "remaining_time": 9.694199517,
                        "test": [
                          0.7454110043,
                          0.6973310642
                        ]
                      },
                      {
                        "iteration": 375,
                        "passed_time": 5.794391937,
                        "remaining_time": 9.616224916,
                        "test": [
                          0.7459784298,
                          0.6987808502
                        ]
                      },
                      {
                        "iteration": 380,
                        "passed_time": 5.870140819,
                        "remaining_time": 9.537052932,
                        "test": [
                          0.7457742167,
                          0.6981328492
                        ]
                      },
                      {
                        "iteration": 385,
                        "passed_time": 5.950470746,
                        "remaining_time": 9.465256575,
                        "test": [
                          0.7459368467,
                          0.6988684402
                        ]
                      },
                      {
                        "iteration": 390,
                        "passed_time": 6.024930495,
                        "remaining_time": 9.384098904,
                        "test": [
                          0.7463989365,
                          0.6997341442
                        ]
                      },
                      {
                        "iteration": 395,
                        "passed_time": 6.100924388,
                        "remaining_time": 9.305450329,
                        "test": [
                          0.7485770476,
                          0.7023011231
                        ]
                      },
                      {
                        "iteration": 400,
                        "passed_time": 6.175284981,
                        "remaining_time": 9.224428188,
                        "test": [
                          0.7485750135,
                          0.7024973442
                        ]
                      },
                      {
                        "iteration": 405,
                        "passed_time": 6.254497456,
                        "remaining_time": 9.150668692,
                        "test": [
                          0.7494253383,
                          0.7040165825
                        ]
                      },
                      {
                        "iteration": 410,
                        "passed_time": 6.330274832,
                        "remaining_time": 9.071853714,
                        "test": [
                          0.7487331468,
                          0.7017040121
                        ]
                      },
                      {
                        "iteration": 415,
                        "passed_time": 6.405928101,
                        "remaining_time": 8.992937526,
                        "test": [
                          0.7489542844,
                          0.7025257798
                        ]
                      },
                      {
                        "iteration": 420,
                        "passed_time": 6.479734899,
                        "remaining_time": 8.911559398,
                        "test": [
                          0.7488176726,
                          0.7021000718
                        ]
                      },
                      {
                        "iteration": 425,
                        "passed_time": 6.55275269,
                        "remaining_time": 8.829295878,
                        "test": [
                          0.7490004617,
                          0.7028669699
                        ]
                      },
                      {
                        "iteration": 430,
                        "passed_time": 6.628069446,
                        "remaining_time": 8.750281937,
                        "test": [
                          0.7485159409,
                          0.701556709
                        ]
                      },
                      {
                        "iteration": 435,
                        "passed_time": 6.701280206,
                        "remaining_time": 8.668628524,
                        "test": [
                          0.7496428651,
                          0.7041828603
                        ]
                      },
                      {
                        "iteration": 440,
                        "passed_time": 6.773384886,
                        "remaining_time": 8.585764516,
                        "test": [
                          0.7499494871,
                          0.7038706561
                        ]
                      },
                      {
                        "iteration": 445,
                        "passed_time": 6.84796587,
                        "remaining_time": 8.506217695,
                        "test": [
                          0.748524818,
                          0.7019193509
                        ]
                      },
                      {
                        "iteration": 450,
                        "passed_time": 6.923265906,
                        "remaining_time": 8.42765628,
                        "test": [
                          0.7489152119,
                          0.7021041666
                        ]
                      },
                      {
                        "iteration": 455,
                        "passed_time": 6.999590726,
                        "remaining_time": 8.350388937,
                        "test": [
                          0.7490336122,
                          0.7021423542
                        ]
                      },
                      {
                        "iteration": 460,
                        "passed_time": 7.073690233,
                        "remaining_time": 8.270540207,
                        "test": [
                          0.748681664,
                          0.7002044933
                        ]
                      },
                      {
                        "iteration": 465,
                        "passed_time": 7.149013131,
                        "remaining_time": 8.192216764,
                        "test": [
                          0.7492068596,
                          0.7005484712
                        ]
                      },
                      {
                        "iteration": 470,
                        "passed_time": 7.223405532,
                        "remaining_time": 8.112911946,
                        "test": [
                          0.7487447505,
                          0.7016589109
                        ]
                      },
                      {
                        "iteration": 475,
                        "passed_time": 7.300460275,
                        "remaining_time": 8.036641143,
                        "test": [
                          0.7490757772,
                          0.7023811101
                        ]
                      },
                      {
                        "iteration": 480,
                        "passed_time": 7.376415547,
                        "remaining_time": 7.959167711,
                        "test": [
                          0.7481283319,
                          0.7002375362
                        ]
                      },
                      {
                        "iteration": 485,
                        "passed_time": 7.454051159,
                        "remaining_time": 7.883502666,
                        "test": [
                          0.7466012704,
                          0.6987527963
                        ]
                      },
                      {
                        "iteration": 490,
                        "passed_time": 7.53093818,
                        "remaining_time": 7.807021453,
                        "test": [
                          0.7466194933,
                          0.6980144431
                        ]
                      },
                      {
                        "iteration": 495,
                        "passed_time": 7.61028265,
                        "remaining_time": 7.733029145,
                        "test": [
                          0.7479994179,
                          0.6990586891
                        ]
                      },
                      {
                        "iteration": 500,
                        "passed_time": 7.68461956,
                        "remaining_time": 7.653942436,
                        "test": [
                          0.7475505795,
                          0.6990471091
                        ]
                      },
                      {
                        "iteration": 505,
                        "passed_time": 7.763465708,
                        "remaining_time": 7.579351897,
                        "test": [
                          0.7475903325,
                          0.698663324
                        ]
                      },
                      {
                        "iteration": 510,
                        "passed_time": 7.842556077,
                        "remaining_time": 7.504911784,
                        "test": [
                          0.7478128017,
                          0.6992499158
                        ]
                      },
                      {
                        "iteration": 515,
                        "passed_time": 7.916349578,
                        "remaining_time": 7.42541317,
                        "test": [
                          0.7496715701,
                          0.7029439205
                        ]
                      },
                      {
                        "iteration": 520,
                        "passed_time": 7.989421074,
                        "remaining_time": 7.345360258,
                        "test": [
                          0.7484668329,
                          0.7008311637
                        ]
                      },
                      {
                        "iteration": 525,
                        "passed_time": 8.063500532,
                        "remaining_time": 7.266348388,
                        "test": [
                          0.7475901027,
                          0.6996727836
                        ]
                      },
                      {
                        "iteration": 530,
                        "passed_time": 8.138896899,
                        "remaining_time": 7.188592553,
                        "test": [
                          0.7497978038,
                          0.7046390521
                        ]
                      },
                      {
                        "iteration": 535,
                        "passed_time": 8.213965601,
                        "remaining_time": 7.110597088,
                        "test": [
                          0.7487107646,
                          0.7004820926
                        ]
                      },
                      {
                        "iteration": 540,
                        "passed_time": 8.289651823,
                        "remaining_time": 7.033179643,
                        "test": [
                          0.7491137054,
                          0.7026157496
                        ]
                      },
                      {
                        "iteration": 545,
                        "passed_time": 8.365736149,
                        "remaining_time": 6.95612493,
                        "test": [
                          0.7501808262,
                          0.7034823288
                        ]
                      },
                      {
                        "iteration": 550,
                        "passed_time": 8.44051821,
                        "remaining_time": 6.878026635,
                        "test": [
                          0.7500242105,
                          0.7025164435
                        ]
                      },
                      {
                        "iteration": 555,
                        "passed_time": 8.516897402,
                        "remaining_time": 6.801263393,
                        "test": [
                          0.7499296836,
                          0.702515737
                        ]
                      },
                      {
                        "iteration": 560,
                        "passed_time": 8.595197652,
                        "remaining_time": 6.726010284,
                        "test": [
                          0.7495414448,
                          0.7016538165
                        ]
                      },
                      {
                        "iteration": 565,
                        "passed_time": 8.674387649,
                        "remaining_time": 6.651385583,
                        "test": [
                          0.7496850001,
                          0.702059481
                        ]
                      },
                      {
                        "iteration": 570,
                        "passed_time": 8.752955815,
                        "remaining_time": 6.576213738,
                        "test": [
                          0.749837417,
                          0.7033057163
                        ]
                      },
                      {
                        "iteration": 575,
                        "passed_time": 8.831227999,
                        "remaining_time": 6.500765055,
                        "test": [
                          0.7496828829,
                          0.702566614
                        ]
                      },
                      {
                        "iteration": 580,
                        "passed_time": 8.906969283,
                        "remaining_time": 6.423442564,
                        "test": [
                          0.7503075044,
                          0.7039022892
                        ]
                      },
                      {
                        "iteration": 585,
                        "passed_time": 8.981430586,
                        "remaining_time": 6.345242769,
                        "test": [
                          0.7498337653,
                          0.7037495106
                        ]
                      },
                      {
                        "iteration": 590,
                        "passed_time": 9.055831039,
                        "remaining_time": 6.26706412,
                        "test": [
                          0.7501375704,
                          0.7041479372
                        ]
                      },
                      {
                        "iteration": 595,
                        "passed_time": 9.130209809,
                        "remaining_time": 6.188934166,
                        "test": [
                          0.75009748,
                          0.7037648605
                        ]
                      },
                      {
                        "iteration": 600,
                        "passed_time": 9.203106968,
                        "remaining_time": 6.109882995,
                        "test": [
                          0.749181606,
                          0.7025064617
                        ]
                      },
                      {
                        "iteration": 605,
                        "passed_time": 9.276554833,
                        "remaining_time": 6.031291426,
                        "test": [
                          0.7492569634,
                          0.7027858219
                        ]
                      },
                      {
                        "iteration": 610,
                        "passed_time": 9.353335777,
                        "remaining_time": 5.954906084,
                        "test": [
                          0.750487638,
                          0.704218555
                        ]
                      },
                      {
                        "iteration": 615,
                        "passed_time": 9.431752121,
                        "remaining_time": 5.879533789,
                        "test": [
                          0.7500907849,
                          0.7047534696
                        ]
                      },
                      {
                        "iteration": 620,
                        "passed_time": 9.506701041,
                        "remaining_time": 5.801996287,
                        "test": [
                          0.7501939132,
                          0.704691407
                        ]
                      },
                      {
                        "iteration": 625,
                        "passed_time": 9.580612718,
                        "remaining_time": 5.723880442,
                        "test": [
                          0.7509543099,
                          0.7048898388
                        ]
                      },
                      {
                        "iteration": 630,
                        "passed_time": 9.654474374,
                        "remaining_time": 5.645801972,
                        "test": [
                          0.7507531661,
                          0.7049494608
                        ]
                      },
                      {
                        "iteration": 635,
                        "passed_time": 9.727427304,
                        "remaining_time": 5.567269715,
                        "test": [
                          0.7511346296,
                          0.7057023246
                        ]
                      },
                      {
                        "iteration": 640,
                        "passed_time": 9.801537405,
                        "remaining_time": 5.489472587,
                        "test": [
                          0.7510721033,
                          0.7057819908
                        ]
                      },
                      {
                        "iteration": 645,
                        "passed_time": 9.87783456,
                        "remaining_time": 5.412931013,
                        "test": [
                          0.7510032209,
                          0.7054127408
                        ]
                      },
                      {
                        "iteration": 650,
                        "passed_time": 9.954680644,
                        "remaining_time": 5.336687473,
                        "test": [
                          0.750840799,
                          0.7047175415
                        ]
                      },
                      {
                        "iteration": 655,
                        "passed_time": 10.03076914,
                        "remaining_time": 5.260037477,
                        "test": [
                          0.7524278423,
                          0.7075677258
                        ]
                      },
                      {
                        "iteration": 660,
                        "passed_time": 10.10469845,
                        "remaining_time": 5.182288617,
                        "test": [
                          0.7526774167,
                          0.7083611581
                        ]
                      },
                      {
                        "iteration": 665,
                        "passed_time": 10.17981011,
                        "remaining_time": 5.105190053,
                        "test": [
                          0.7523661428,
                          0.7074093642
                        ]
                      },
                      {
                        "iteration": 670,
                        "passed_time": 10.25332598,
                        "remaining_time": 5.027338671,
                        "test": [
                          0.7525042988,
                          0.7078075713
                        ]
                      },
                      {
                        "iteration": 675,
                        "passed_time": 10.32985087,
                        "remaining_time": 4.950993614,
                        "test": [
                          0.7525062915,
                          0.7074148944
                        ]
                      },
                      {
                        "iteration": 680,
                        "passed_time": 10.40394347,
                        "remaining_time": 4.87350656,
                        "test": [
                          0.7520143397,
                          0.7060027896
                        ]
                      },
                      {
                        "iteration": 685,
                        "passed_time": 10.48264685,
                        "remaining_time": 4.798179462,
                        "test": [
                          0.7513383666,
                          0.7048295202
                        ]
                      },
                      {
                        "iteration": 690,
                        "passed_time": 10.58198767,
                        "remaining_time": 4.732032113,
                        "test": [
                          0.7520387261,
                          0.7069875019
                        ]
                      },
                      {
                        "iteration": 695,
                        "passed_time": 10.66227403,
                        "remaining_time": 4.65708521,
                        "test": [
                          0.7520705556,
                          0.7067046167
                        ]
                      },
                      {
                        "iteration": 700,
                        "passed_time": 10.84305095,
                        "remaining_time": 4.624924729,
                        "test": [
                          0.7515513546,
                          0.7046908932
                        ]
                      },
                      {
                        "iteration": 705,
                        "passed_time": 11.01269904,
                        "remaining_time": 4.586024812,
                        "test": [
                          0.7531377029,
                          0.7063727782
                        ]
                      },
                      {
                        "iteration": 710,
                        "passed_time": 11.08909142,
                        "remaining_time": 4.50738034,
                        "test": [
                          0.7530515291,
                          0.7065592444
                        ]
                      },
                      {
                        "iteration": 715,
                        "passed_time": 11.17777191,
                        "remaining_time": 4.433641373,
                        "test": [
                          0.7527344354,
                          0.7053227086
                        ]
                      },
                      {
                        "iteration": 720,
                        "passed_time": 11.25346885,
                        "remaining_time": 4.354671027,
                        "test": [
                          0.7523219815,
                          0.7046673754
                        ]
                      },
                      {
                        "iteration": 725,
                        "passed_time": 11.33035554,
                        "remaining_time": 4.27619479,
                        "test": [
                          0.7518096798,
                          0.703433376
                        ]
                      },
                      {
                        "iteration": 730,
                        "passed_time": 11.40747571,
                        "remaining_time": 4.197826217,
                        "test": [
                          0.7526734732,
                          0.705755475
                        ]
                      },
                      {
                        "iteration": 735,
                        "passed_time": 11.49022573,
                        "remaining_time": 4.121494013,
                        "test": [
                          0.7519828383,
                          0.7039428576
                        ]
                      },
                      {
                        "iteration": 740,
                        "passed_time": 11.56651528,
                        "remaining_time": 4.042817082,
                        "test": [
                          0.752293522,
                          0.7038565287
                        ]
                      },
                      {
                        "iteration": 745,
                        "passed_time": 11.64112165,
                        "remaining_time": 3.963599061,
                        "test": [
                          0.7522389407,
                          0.7040712015
                        ]
                      },
                      {
                        "iteration": 750,
                        "passed_time": 11.71776577,
                        "remaining_time": 3.885118077,
                        "test": [
                          0.7524374123,
                          0.7052662152
                        ]
                      },
                      {
                        "iteration": 755,
                        "passed_time": 11.80016262,
                        "remaining_time": 3.808518095,
                        "test": [
                          0.7524648199,
                          0.7049995789
                        ]
                      },
                      {
                        "iteration": 760,
                        "passed_time": 11.883669,
                        "remaining_time": 3.732190396,
                        "test": [
                          0.7524078215,
                          0.7052438674
                        ]
                      },
                      {
                        "iteration": 765,
                        "passed_time": 11.9671719,
                        "remaining_time": 3.655767917,
                        "test": [
                          0.7524324211,
                          0.7040288727
                        ]
                      },
                      {
                        "iteration": 770,
                        "passed_time": 12.07716664,
                        "remaining_time": 3.587122127,
                        "test": [
                          0.7530567598,
                          0.7053057618
                        ]
                      },
                      {
                        "iteration": 775,
                        "passed_time": 12.17222205,
                        "remaining_time": 3.513631107,
                        "test": [
                          0.7523280451,
                          0.7040977131
                        ]
                      },
                      {
                        "iteration": 780,
                        "passed_time": 12.26959395,
                        "remaining_time": 3.44051354,
                        "test": [
                          0.7524642581,
                          0.7045500948
                        ]
                      },
                      {
                        "iteration": 785,
                        "passed_time": 12.35664545,
                        "remaining_time": 3.364277515,
                        "test": [
                          0.7525633993,
                          0.7045545798
                        ]
                      },
                      {
                        "iteration": 790,
                        "passed_time": 12.44683335,
                        "remaining_time": 3.288733464,
                        "test": [
                          0.7532955712,
                          0.7067797157
                        ]
                      },
                      {
                        "iteration": 795,
                        "passed_time": 12.5377658,
                        "remaining_time": 3.21319626,
                        "test": [
                          0.7530167974,
                          0.7056900564
                        ]
                      },
                      {
                        "iteration": 800,
                        "passed_time": 12.66177021,
                        "remaining_time": 3.145683235,
                        "test": [
                          0.7526849891,
                          0.7041604979
                        ]
                      },
                      {
                        "iteration": 805,
                        "passed_time": 12.77726719,
                        "remaining_time": 3.07542163,
                        "test": [
                          0.7530257115,
                          0.7053391611
                        ]
                      },
                      {
                        "iteration": 810,
                        "passed_time": 12.8868051,
                        "remaining_time": 3.003213519,
                        "test": [
                          0.753053347,
                          0.7047773648
                        ]
                      },
                      {
                        "iteration": 815,
                        "passed_time": 12.96131874,
                        "remaining_time": 2.922650304,
                        "test": [
                          0.7531265638,
                          0.7053026553
                        ]
                      },
                      {
                        "iteration": 820,
                        "passed_time": 13.03648629,
                        "remaining_time": 2.842303345,
                        "test": [
                          0.7536689657,
                          0.7070510092
                        ]
                      },
                      {
                        "iteration": 825,
                        "passed_time": 13.11257814,
                        "remaining_time": 2.762213798,
                        "test": [
                          0.7534305427,
                          0.706815274
                        ]
                      },
                      {
                        "iteration": 830,
                        "passed_time": 13.18916319,
                        "remaining_time": 2.682272659,
                        "test": [
                          0.752966178,
                          0.7064281226
                        ]
                      },
                      {
                        "iteration": 835,
                        "passed_time": 13.26617729,
                        "remaining_time": 2.602455831,
                        "test": [
                          0.7527965408,
                          0.7055497363
                        ]
                      },
                      {
                        "iteration": 840,
                        "passed_time": 13.34388303,
                        "remaining_time": 2.522803094,
                        "test": [
                          0.7529601865,
                          0.7057253457
                        ]
                      },
                      {
                        "iteration": 845,
                        "passed_time": 13.42134955,
                        "remaining_time": 2.443129824,
                        "test": [
                          0.7527679399,
                          0.7053484277
                        ]
                      },
                      {
                        "iteration": 850,
                        "passed_time": 13.49713641,
                        "remaining_time": 2.363188397,
                        "test": [
                          0.7526413041,
                          0.7042688316
                        ]
                      },
                      {
                        "iteration": 855,
                        "passed_time": 13.57333187,
                        "remaining_time": 2.28336424,
                        "test": [
                          0.7528815986,
                          0.7052086231
                        ]
                      },
                      {
                        "iteration": 860,
                        "passed_time": 13.65084703,
                        "remaining_time": 2.203795281,
                        "test": [
                          0.7529718604,
                          0.7055482159
                        ]
                      },
                      {
                        "iteration": 865,
                        "passed_time": 13.73028957,
                        "remaining_time": 2.124548271,
                        "test": [
                          0.7531456834,
                          0.705498549
                        ]
                      },
                      {
                        "iteration": 870,
                        "passed_time": 13.80732557,
                        "remaining_time": 2.044942594,
                        "test": [
                          0.7531593024,
                          0.7053750117
                        ]
                      },
                      {
                        "iteration": 875,
                        "passed_time": 13.89239591,
                        "remaining_time": 1.966503531,
                        "test": [
                          0.7530239546,
                          0.7057363902
                        ]
                      },
                      {
                        "iteration": 880,
                        "passed_time": 13.96713128,
                        "remaining_time": 1.886593215,
                        "test": [
                          0.7527955118,
                          0.7051856562
                        ]
                      },
                      {
                        "iteration": 885,
                        "passed_time": 14.04346561,
                        "remaining_time": 1.806947042,
                        "test": [
                          0.7526991334,
                          0.7050286406
                        ]
                      },
                      {
                        "iteration": 890,
                        "passed_time": 14.11983823,
                        "remaining_time": 1.727342724,
                        "test": [
                          0.7526074366,
                          0.7035922174
                        ]
                      },
                      {
                        "iteration": 895,
                        "passed_time": 14.19748273,
                        "remaining_time": 1.647922103,
                        "test": [
                          0.7526641895,
                          0.7040260313
                        ]
                      },
                      {
                        "iteration": 900,
                        "passed_time": 14.27659463,
                        "remaining_time": 1.568682429,
                        "test": [
                          0.7523736742,
                          0.7037304912
                        ]
                      },
                      {
                        "iteration": 905,
                        "passed_time": 14.35835279,
                        "remaining_time": 1.489718722,
                        "test": [
                          0.7522434674,
                          0.7035996343
                        ]
                      },
                      {
                        "iteration": 910,
                        "passed_time": 14.43455113,
                        "remaining_time": 1.410181175,
                        "test": [
                          0.7524355721,
                          0.7049502923
                        ]
                      },
                      {
                        "iteration": 915,
                        "passed_time": 14.51353211,
                        "remaining_time": 1.330935259,
                        "test": [
                          0.7523856103,
                          0.7049208761
                        ]
                      },
                      {
                        "iteration": 920,
                        "passed_time": 14.59262477,
                        "remaining_time": 1.251701799,
                        "test": [
                          0.7524151526,
                          0.7046093255
                        ]
                      },
                      {
                        "iteration": 925,
                        "passed_time": 14.66938446,
                        "remaining_time": 1.172283424,
                        "test": [
                          0.7525668113,
                          0.7045371805
                        ]
                      },
                      {
                        "iteration": 930,
                        "passed_time": 14.74682759,
                        "remaining_time": 1.092944258,
                        "test": [
                          0.7530314465,
                          0.7053969092
                        ]
                      },
                      {
                        "iteration": 935,
                        "passed_time": 14.82832185,
                        "remaining_time": 1.013902349,
                        "test": [
                          0.7530936225,
                          0.7057892084
                        ]
                      },
                      {
                        "iteration": 940,
                        "passed_time": 14.90500487,
                        "remaining_time": 0.9345327177,
                        "test": [
                          0.7522752748,
                          0.7042948725
                        ]
                      },
                      {
                        "iteration": 945,
                        "passed_time": 14.98139491,
                        "remaining_time": 0.8551747623,
                        "test": [
                          0.7521717235,
                          0.7043922496
                        ]
                      },
                      {
                        "iteration": 950,
                        "passed_time": 15.0579288,
                        "remaining_time": 0.7758554271,
                        "test": [
                          0.7517723062,
                          0.703867056
                        ]
                      },
                      {
                        "iteration": 955,
                        "passed_time": 15.13493948,
                        "remaining_time": 0.6965871728,
                        "test": [
                          0.7518017445,
                          0.703500158
                        ]
                      },
                      {
                        "iteration": 960,
                        "passed_time": 15.20765594,
                        "remaining_time": 0.617168139,
                        "test": [
                          0.7518366401,
                          0.7037425199
                        ]
                      },
                      {
                        "iteration": 965,
                        "passed_time": 15.28378291,
                        "remaining_time": 0.5379385288,
                        "test": [
                          0.75214181,
                          0.7049606362
                        ]
                      },
                      {
                        "iteration": 970,
                        "passed_time": 15.35851979,
                        "remaining_time": 0.4586993551,
                        "test": [
                          0.7529110842,
                          0.7061815702
                        ]
                      },
                      {
                        "iteration": 975,
                        "passed_time": 15.43965866,
                        "remaining_time": 0.3796637375,
                        "test": [
                          0.7526322378,
                          0.7054104462
                        ]
                      },
                      {
                        "iteration": 980,
                        "passed_time": 15.51696256,
                        "remaining_time": 0.3005324042,
                        "test": [
                          0.7534086831,
                          0.7070447731
                        ]
                      },
                      {
                        "iteration": 985,
                        "passed_time": 15.59495192,
                        "remaining_time": 0.2214293376,
                        "test": [
                          0.7518414987,
                          0.7052223852
                        ]
                      },
                      {
                        "iteration": 990,
                        "passed_time": 15.67394462,
                        "remaining_time": 0.1423466212,
                        "test": [
                          0.7533613148,
                          0.7043574681
                        ]
                      },
                      {
                        "iteration": 995,
                        "passed_time": 15.75413317,
                        "remaining_time": 0.06326961112,
                        "test": [
                          0.7511245676,
                          0.7029185376
                        ]
                      },
                      {
                        "iteration": 999,
                        "passed_time": 15.81574871,
                        "remaining_time": 0,
                        "test": [
                          0.7534326851,
                          0.7044123204
                        ]
                      }
                    ],
                    "meta": {
                      "test_sets": [
                        "test"
                      ],
                      "test_metrics": [
                        {
                          "best_value": "Max",
                          "name": "NDCG:type=Base"
                        },
                        {
                          "best_value": "Max",
                          "name": "PFound"
                        }
                      ],
                      "learn_metrics": [],
                      "launch_mode": "Train",
                      "parameters": "",
                      "iteration_count": 1000,
                      "learn_sets": [
                        "learn"
                      ],
                      "name": "experiment"
                    }
                  }
                }
              }
            },
            "layout": "IPY_MODEL_09d49a20d3b1428fae6e1528e4965135"
          }
        }
      }
    }
  },
  "nbformat": 4,
  "nbformat_minor": 0
}